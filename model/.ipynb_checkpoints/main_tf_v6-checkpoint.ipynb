{
 "cells": [
  {
   "cell_type": "code",
   "execution_count": 44,
   "id": "86806dae-63ee-4652-8081-a422525afe7e",
   "metadata": {
    "scrolled": true
   },
   "outputs": [
    {
     "name": "stdout",
     "output_type": "stream",
     "text": [
      "# packages in environment at C:\\Users\\foxir\\miniconda3\\envs\\gunshot_tf:\n",
      "#\n",
      "# Name                    Version                   Build  Channel\n",
      "absl-py                   2.1.0                    pypi_0    pypi\n",
      "annotated-types           0.7.0                    pypi_0    pypi\n",
      "appdirs                   1.4.4                    pypi_0    pypi\n",
      "asttokens                 3.0.0                    pypi_0    pypi\n",
      "astunparse                1.6.3                    pypi_0    pypi\n",
      "audiomentations           0.38.0                   pypi_0    pypi\n",
      "audioread                 3.0.1                    pypi_0    pypi\n",
      "bzip2                     1.0.8                h2466b09_7    conda-forge\n",
      "ca-certificates           2024.12.14           h56e8100_0    conda-forge\n",
      "cachetools                5.5.0                    pypi_0    pypi\n",
      "certifi                   2024.12.14               pypi_0    pypi\n",
      "cffi                      1.17.1                   pypi_0    pypi\n",
      "charset-normalizer        3.4.0                    pypi_0    pypi\n",
      "click                     8.1.8                    pypi_0    pypi\n",
      "colorama                  0.4.6                    pypi_0    pypi\n",
      "comm                      0.2.2                    pypi_0    pypi\n",
      "contourpy                 1.3.1                    pypi_0    pypi\n",
      "cudatoolkit               11.2.2              h7d7167e_13    conda-forge\n",
      "cudnn                     8.1.0.77             h3e0f4f4_0    conda-forge\n",
      "cycler                    0.12.1                   pypi_0    pypi\n",
      "debugpy                   1.8.11                   pypi_0    pypi\n",
      "decorator                 5.1.1                    pypi_0    pypi\n",
      "docker-pycreds            0.4.0                    pypi_0    pypi\n",
      "exceptiongroup            1.2.2                    pypi_0    pypi\n",
      "executing                 2.1.0                    pypi_0    pypi\n",
      "flatbuffers               24.3.25                  pypi_0    pypi\n",
      "fonttools                 4.55.3                   pypi_0    pypi\n",
      "gast                      0.6.0                    pypi_0    pypi\n",
      "gitdb                     4.0.12                   pypi_0    pypi\n",
      "gitpython                 3.1.44                   pypi_0    pypi\n",
      "google-auth               2.37.0                   pypi_0    pypi\n",
      "google-auth-oauthlib      0.4.6                    pypi_0    pypi\n",
      "google-pasta              0.2.0                    pypi_0    pypi\n",
      "grpcio                    1.68.1                   pypi_0    pypi\n",
      "h5py                      3.12.1                   pypi_0    pypi\n",
      "idna                      3.10                     pypi_0    pypi\n",
      "ipykernel                 6.29.5                   pypi_0    pypi\n",
      "ipython                   8.30.0                   pypi_0    pypi\n",
      "jedi                      0.19.2                   pypi_0    pypi\n",
      "joblib                    1.4.2                    pypi_0    pypi\n",
      "jupyter-client            8.6.3                    pypi_0    pypi\n",
      "jupyter-core              5.7.2                    pypi_0    pypi\n",
      "keras                     2.8.0                    pypi_0    pypi\n",
      "keras-preprocessing       1.1.2                    pypi_0    pypi\n",
      "kiwisolver                1.4.7                    pypi_0    pypi\n",
      "lazy-loader               0.4                      pypi_0    pypi\n",
      "libclang                  18.1.1                   pypi_0    pypi\n",
      "libffi                    3.4.2                h8ffe710_5    conda-forge\n",
      "liblzma                   5.6.3                h2466b09_1    conda-forge\n",
      "liblzma-devel             5.6.3                h2466b09_1    conda-forge\n",
      "librosa                   0.10.2.post1             pypi_0    pypi\n",
      "libsqlite                 3.47.2               h67fdade_0    conda-forge\n",
      "libzlib                   1.3.1                h2466b09_2    conda-forge\n",
      "llvmlite                  0.43.0                   pypi_0    pypi\n",
      "markdown                  3.7                      pypi_0    pypi\n",
      "markupsafe                3.0.2                    pypi_0    pypi\n",
      "matplotlib                3.10.0                   pypi_0    pypi\n",
      "matplotlib-inline         0.1.7                    pypi_0    pypi\n",
      "msgpack                   1.1.0                    pypi_0    pypi\n",
      "nest-asyncio              1.6.0                    pypi_0    pypi\n",
      "numba                     0.60.0                   pypi_0    pypi\n",
      "numpy                     1.26.4                   pypi_0    pypi\n",
      "numpy-minmax              0.3.1                    pypi_0    pypi\n",
      "numpy-rms                 0.4.2                    pypi_0    pypi\n",
      "oauthlib                  3.2.2                    pypi_0    pypi\n",
      "openssl                   3.4.0                h2466b09_0    conda-forge\n",
      "opt-einsum                3.4.0                    pypi_0    pypi\n",
      "packaging                 24.2                     pypi_0    pypi\n",
      "parso                     0.8.4                    pypi_0    pypi\n",
      "pathtools                 0.1.2                    pypi_0    pypi\n",
      "pillow                    11.0.0                   pypi_0    pypi\n",
      "pip                       24.3.1             pyh8b19718_0    conda-forge\n",
      "platformdirs              4.3.6                    pypi_0    pypi\n",
      "pooch                     1.8.2                    pypi_0    pypi\n",
      "prompt-toolkit            3.0.48                   pypi_0    pypi\n",
      "protobuf                  3.20.0                   pypi_0    pypi\n",
      "psutil                    6.1.0                    pypi_0    pypi\n",
      "pure-eval                 0.2.3                    pypi_0    pypi\n",
      "pyasn1                    0.6.1                    pypi_0    pypi\n",
      "pyasn1-modules            0.4.1                    pypi_0    pypi\n",
      "pycparser                 2.22                     pypi_0    pypi\n",
      "pydantic                  2.10.4                   pypi_0    pypi\n",
      "pydantic-core             2.27.2                   pypi_0    pypi\n",
      "pygments                  2.18.0                   pypi_0    pypi\n",
      "pyparsing                 3.2.0                    pypi_0    pypi\n",
      "python                    3.10.2          hcf16a7b_4_cpython    conda-forge\n",
      "python-dateutil           2.9.0.post0              pypi_0    pypi\n",
      "pywin32                   308                      pypi_0    pypi\n",
      "pyyaml                    6.0.2                    pypi_0    pypi\n",
      "pyzmq                     26.2.0                   pypi_0    pypi\n",
      "requests                  2.32.3                   pypi_0    pypi\n",
      "requests-oauthlib         2.0.0                    pypi_0    pypi\n",
      "rsa                       4.9                      pypi_0    pypi\n",
      "scikit-learn              1.6.0                    pypi_0    pypi\n",
      "scipy                     1.12.0                   pypi_0    pypi\n",
      "sentry-sdk                2.19.2                   pypi_0    pypi\n",
      "setproctitle              1.3.4                    pypi_0    pypi\n",
      "setuptools                75.6.0             pyhff2d567_1    conda-forge\n",
      "six                       1.17.0                   pypi_0    pypi\n",
      "smmap                     5.0.2                    pypi_0    pypi\n",
      "soundfile                 0.13.0                   pypi_0    pypi\n",
      "soxr                      0.5.0.post1              pypi_0    pypi\n",
      "spec-augment              0.0.3                    pypi_0    pypi\n",
      "sqlite                    3.47.2               h2466b09_0    conda-forge\n",
      "stack-data                0.6.3                    pypi_0    pypi\n",
      "tensorboard               2.8.0                    pypi_0    pypi\n",
      "tensorboard-data-server   0.6.1                    pypi_0    pypi\n",
      "tensorboard-plugin-wit    1.8.1                    pypi_0    pypi\n",
      "tensorflow                2.8.0                    pypi_0    pypi\n",
      "tensorflow-io             0.25.0                   pypi_0    pypi\n",
      "tensorflow-io-gcs-filesystem 0.25.0                   pypi_0    pypi\n",
      "termcolor                 2.5.0                    pypi_0    pypi\n",
      "tf-estimator-nightly      2.8.0.dev2021122109          pypi_0    pypi\n",
      "threadpoolctl             3.5.0                    pypi_0    pypi\n",
      "tk                        8.6.13               h5226925_1    conda-forge\n",
      "tornado                   6.4.2                    pypi_0    pypi\n",
      "traitlets                 5.14.3                   pypi_0    pypi\n",
      "typing-extensions         4.12.2                   pypi_0    pypi\n",
      "tzdata                    2024b                hc8b5060_0    conda-forge\n",
      "ucrt                      10.0.22621.0         h57928b3_1    conda-forge\n",
      "urllib3                   2.2.3                    pypi_0    pypi\n",
      "vc                        14.3                ha32ba9b_23    conda-forge\n",
      "vc14_runtime              14.42.34433         he29a5d6_23    conda-forge\n",
      "vs2015_runtime            14.42.34433         hdffcdeb_23    conda-forge\n",
      "wandb                     0.19.1                   pypi_0    pypi\n",
      "wcwidth                   0.2.13                   pypi_0    pypi\n",
      "werkzeug                  3.1.3                    pypi_0    pypi\n",
      "wheel                     0.45.1             pyhd8ed1ab_1    conda-forge\n",
      "wrapt                     1.17.0                   pypi_0    pypi\n",
      "xz                        5.6.3                h208afaa_1    conda-forge\n",
      "xz-tools                  5.6.3                h2466b09_1    conda-forge\n"
     ]
    }
   ],
   "source": [
    "!conda list"
   ]
  },
  {
   "cell_type": "code",
   "execution_count": 22,
   "id": "3df6853a-eff4-4107-9f76-8736c2542e54",
   "metadata": {},
   "outputs": [],
   "source": [
    "import os\n",
    "from matplotlib import pyplot as plt\n",
    "import tensorflow as tf\n",
    "import tensorflow_io as tfio\n",
    "import numpy as np\n",
    "import pandas as pd\n",
    "import csv\n",
    "import glob\n",
    "import random"
   ]
  },
  {
   "cell_type": "code",
   "execution_count": 50,
   "id": "226e7382-1ca5-457f-8aa2-57229a8cbf65",
   "metadata": {},
   "outputs": [],
   "source": [
    "from audiomentations import Compose, Gain, AddGaussianNoise, TimeMask, AddShortNoises, PolarityInversion"
   ]
  },
  {
   "cell_type": "code",
   "execution_count": 51,
   "id": "a2486c28-c1f4-4824-9a15-aed18656746f",
   "metadata": {},
   "outputs": [
    {
     "name": "stdout",
     "output_type": "stream",
     "text": [
      "[PhysicalDevice(name='/physical_device:GPU:0', device_type='GPU')]\n"
     ]
    }
   ],
   "source": [
    "!python -c \"import tensorflow as tf; print(tf.config.list_physical_devices('GPU'))\""
   ]
  },
  {
   "cell_type": "code",
   "execution_count": 52,
   "id": "ea438a46-8711-4244-a143-0fcfa511dced",
   "metadata": {},
   "outputs": [],
   "source": [
    "def load_wav_8k_mono(filename):\n",
    "    try:\n",
    "        file_contents = tf.io.read_file(filename)\n",
    "        wav, sample_rate = tf.audio.decode_wav(file_contents, desired_channels=1)\n",
    "        sample_rate = tf.cast(sample_rate, dtype=tf.int64)\n",
    "        if sample_rate != 8000:\n",
    "            wav = tfio.audio.resample(wav, rate_in=sample_rate, rate_out=8000)\n",
    "        wav = tf.squeeze(wav, axis=-1)\n",
    "    except Exception as e:\n",
    "        print(f\"Invalid file: {filename} - {e}\")\n",
    "    return wav"
   ]
  },
  {
   "cell_type": "code",
   "execution_count": 53,
   "id": "da81611c-143f-46dd-b67d-3b7b5f55c60b",
   "metadata": {},
   "outputs": [],
   "source": [
    "sample_rate = 8000\n",
    "mel_spec_length = 32000\n",
    "frame_length = 256\n",
    "frame_step = 128\n",
    "mel_bins = 64\n",
    "upper_edge = 4000\n",
    "lower_edge = 0"
   ]
  },
  {
   "cell_type": "code",
   "execution_count": 54,
   "id": "0a423628-630a-47a0-92a5-2c92a155473f",
   "metadata": {},
   "outputs": [],
   "source": [
    "def preprocess_mel(file_path, label):\n",
    "    # load wav and make sure length is proper\n",
    "    if isinstance(file_path, str):\n",
    "        try:\n",
    "            wav, label = load_wav_8k_mono(file_path)\n",
    "        except Exception as e:\n",
    "            print(f\"Failed to load wav file at {file_path} - {e}\")\n",
    "    else:\n",
    "        wav = file_path\n",
    "\n",
    "    if len(wav) > 32000:\n",
    "        wav = wav[:mel_spec_length]\n",
    "    if len(wav) < 32000:\n",
    "        try:\n",
    "            zero_padding = tf.zeros([mel_spec_length] - tf.shape(wav), dtype=tf.float32)\n",
    "            wav = tf.concat([zero_padding, wav], 0)\n",
    "        except Exception as e:\n",
    "            print(f\"Failed to pad wav file at {file_path} - {e}\")\n",
    "    \n",
    "    # create the spectrogram\n",
    "    print(\"Wav Shape:\", wav.shape)\n",
    "    spectrogram = tf.signal.stft(wav, frame_length, frame_step, window_fn=tf.signal.hann_window)\n",
    "    print(\"STFT Shape1:\", spectrogram.shape)\n",
    "    spectrogram = tf.abs(spectrogram)\n",
    "    print(\"STFT Shape2:\", spectrogram.shape)\n",
    "\n",
    "    # create the mel filterbank\n",
    "    spec_bins = frame_length // 2 + 1  # Derived from frame length\n",
    "    mel_filterbank = tf.signal.linear_to_mel_weight_matrix(\n",
    "        mel_bins,\n",
    "        spec_bins,\n",
    "        sample_rate,\n",
    "        lower_edge,\n",
    "        upper_edge,\n",
    "    )\n",
    "    print(\"Mel Filterbank Shape:\", mel_filterbank.shape)\n",
    "    \n",
    "    # create the mel spectrogram\n",
    "    mel_spectrogram = tf.matmul(spectrogram, mel_filterbank)\n",
    "    print(\"Mel Spectrogram Shape1:\", mel_spectrogram.shape)\n",
    "\n",
    "    # add a dimension\n",
    "    mel_spectrogram = tf.expand_dims(mel_spectrogram, axis=2)\n",
    "    print(\"Mel Spectrogram Shape2:\", mel_spectrogram.shape)\n",
    "\n",
    "    return mel_spectrogram, label"
   ]
  },
  {
   "cell_type": "code",
   "execution_count": 57,
   "id": "a885fcd9-5b0c-472f-93f7-b733863114a3",
   "metadata": {},
   "outputs": [],
   "source": [
    "augment_pos = Compose([\n",
    "    AddGaussianNoise(min_amplitude=0.001, max_amplitude=0.015, p=0.5),\n",
    "    TimeMask(min_band_part=0.05, max_band_part=0.08, p=0.0),\n",
    "    AddShortNoises(sounds_path=b_train_NEG,\n",
    "                   min_snr_db=3.0, max_snr_db=30.0,\n",
    "                   noise_rms=\"relative_to_whole_input\",\n",
    "                   min_time_between_sounds=2.0,\n",
    "                   max_time_between_sounds=8.0,\n",
    "                   noise_transform=PolarityInversion(),\n",
    "                   p=0.5\n",
    "                  ),\n",
    "])"
   ]
  },
  {
   "cell_type": "code",
   "execution_count": 58,
   "id": "579bf2df-e6b4-460a-afb7-d38466b45211",
   "metadata": {},
   "outputs": [],
   "source": [
    "augment_neg = Compose([\n",
    "    AddGaussianNoise(min_amplitude=0.001, max_amplitude=0.015, p=0.5),\n",
    "    Gain(min_gain_db=-6.0, max_gain_db=6.0, p=0.5),\n",
    "    TimeMask(min_band_part=0.05, max_band_part=0.08, p=0.0),\n",
    "    AddShortNoises(sounds_path=b_train_NEG,\n",
    "                   min_snr_db=3.0, max_snr_db=30.0,\n",
    "                   noise_rms=\"relative_to_whole_input\",\n",
    "                   min_time_between_sounds=2.0,\n",
    "                   max_time_between_sounds=8.0,\n",
    "                   noise_transform=PolarityInversion(),\n",
    "                   p=0.5\n",
    "                  ),\n",
    "])"
   ]
  },
  {
   "cell_type": "code",
   "execution_count": 60,
   "id": "900ea102-6a8f-4873-b0b8-c1642718e3e4",
   "metadata": {},
   "outputs": [],
   "source": [
    "augment_val = Compose([\n",
    "    AddGaussianNoise(min_amplitude=0.001, max_amplitude=0.015, p=0.0),\n",
    "])"
   ]
  },
  {
   "cell_type": "code",
   "execution_count": 61,
   "id": "4659eb92-856f-4674-9bbd-8cd3252fcc0b",
   "metadata": {},
   "outputs": [],
   "source": [
    "def augment_pos_wav(wav_tensor):\n",
    "    # wav_numpy = wav_tensor.numpy()\n",
    "    augmented_wav = augment_pos(samples=wav_tensor, sample_rate=8000)\n",
    "    augmented_wav = tf.convert_to_tensor(augmented_wav, dtype=tf.float32)\n",
    "    return augmented_wav"
   ]
  },
  {
   "cell_type": "code",
   "execution_count": 62,
   "id": "3ff7318c-4320-4730-9418-0a008910ac0a",
   "metadata": {},
   "outputs": [],
   "source": [
    "def augment_neg_wav(wav_tensor):\n",
    "    # wav_numpy = wav_tensor.numpy()\n",
    "    augmented_wav = augment_neg(samples=wav_tensor, sample_rate=8000)\n",
    "    augmented_wav = tf.convert_to_tensor(augmented_wav, dtype=tf.float32)\n",
    "    return augmented_wav"
   ]
  },
  {
   "cell_type": "code",
   "execution_count": 63,
   "id": "6af73e91-7304-489a-b65e-515df9d0a1ae",
   "metadata": {},
   "outputs": [],
   "source": [
    "def augment_val_wav(wav_tensor):\n",
    "    # wav_numpy = wav_tensor.numpy()\n",
    "    augmented_wav = augment_val(samples=wav_tensor, sample_rate=8000)\n",
    "    augmented_wav = tf.convert_to_tensor(augmented_wav, dtype=tf.float32)\n",
    "    return augmented_wav"
   ]
  },
  {
   "cell_type": "code",
   "execution_count": 64,
   "id": "44bfe265-8e4d-43fd-8171-c607d716c792",
   "metadata": {},
   "outputs": [],
   "source": [
    "def load_and_augment_pos_wav_tf(filename):\n",
    "    # Loads and augments gunshot wavs with tensorflow, calling respective audiomentation functions\n",
    "    wav = load_wav_8k_mono(filename)\n",
    "    augmented_wav = tf.numpy_function(func=augment_pos_wav, inp=[wav], Tout=tf.float32)\n",
    "    return augmented_wav"
   ]
  },
  {
   "cell_type": "code",
   "execution_count": 65,
   "id": "7260fb78-5cf0-410c-b762-361ebba115a6",
   "metadata": {},
   "outputs": [],
   "source": [
    "def load_and_augment_neg_wav_tf(filename):\n",
    "    # Loads and augments background wavs with tensorflow, calling respective audiomentation functions\n",
    "    wav = load_wav_8k_mono(filename)\n",
    "    augmented_wav = tf.numpy_function(func=augment_neg_wav, inp=[wav], Tout=tf.float32)\n",
    "    return augmented_wav"
   ]
  },
  {
   "cell_type": "code",
   "execution_count": 66,
   "id": "8740b294-a75b-4a69-9af6-1ffae0589958",
   "metadata": {},
   "outputs": [],
   "source": [
    "def load_and_augment_val_wav_tf(filename):\n",
    "    # Loads and augments val wavs with tensorflow, calling zero audiomentation functions\n",
    "    wav = load_wav_8k_mono(filename)\n",
    "    augmented_wav = tf.numpy_function(func=augment_val_wav, inp=[wav], Tout=tf.float32)\n",
    "    return augmented_wav"
   ]
  },
  {
   "cell_type": "code",
   "execution_count": 67,
   "id": "a7554a57-daa3-464a-906b-cf9770bf3067",
   "metadata": {},
   "outputs": [],
   "source": [
    "def load_and_augment_val_wav_tf_tuple(filename, label):\n",
    "    # Loads and augments val wavs with tensorflow, calling zero audiomentation functions\n",
    "    wav = load_wav_8k_mono(filename)\n",
    "    augmented_wav = tf.numpy_function(func=augment_val_wav, inp=[wav], Tout=tf.float32)\n",
    "    return augmented_wav, label"
   ]
  },
  {
   "cell_type": "code",
   "execution_count": 15,
   "id": "5497440f-aad0-4da4-b77e-641da44cbb79",
   "metadata": {},
   "outputs": [],
   "source": [
    "b_test_csv = os.path.join('belize-data', 'b_test_files_and_labels.csv')\n",
    "b_val_csv = os.path.join('belize-data', 'b_val_files_and_labels.csv')\n",
    "b_val_old_NEG = os.path.join('belize-data', 'Validation data', 'Background')\n",
    "b_val_old_POS = os.path.join('belize-data', 'Validation data', 'Gunshot')\n",
    "b_train_NEG = os.path.join('belize-data', 'Training data', 'Background')\n",
    "b_train_POS = os.path.join('belize-data', 'Training data', 'Gunshot')\n",
    "\n",
    "v_test_NEG = os.path.join('vietnam-data', 'imagesvietnamunbalanced_clips', 'test', 'noise')\n",
    "v_test_POS = os.path.join('vietnam-data', 'imagesvietnamunbalanced_clips', 'test', 'gunshot')\n",
    "v_val_NEG = os.path.join('vietnam-data', 'imagesvietnamunbalanced_clips', 'valid', 'noise')\n",
    "v_val_POS = os.path.join('vietnam-data', 'imagesvietnamunbalanced_clips', 'valid', 'gunshot')\n",
    "v_train_NEG = os.path.join('vietnam-data', 'imagesvietnamunbalanced_clips', 'train', 'noise')\n",
    "v_train_POS = os.path.join('vietnam-data', 'imagesvietnamunbalanced_clips', 'train', 'gunshot')\n",
    "\n",
    "model_save_dir = os.path.join('model','model_exports')"
   ]
  },
  {
   "cell_type": "code",
   "execution_count": 38,
   "id": "ca81c86c-235b-4841-b271-1bcd4cc3c06e",
   "metadata": {},
   "outputs": [],
   "source": [
    "def create_arr_from_csv(csv_filepath):\n",
    "    with open(b_test_csv, 'r') as f:\n",
    "        reader = csv.reader(f)\n",
    "        data = list(reader)\n",
    "        data = data[1:]\n",
    "    return data"
   ]
  },
  {
   "cell_type": "code",
   "execution_count": 39,
   "id": "348ac61a-5ea4-4ebc-ac24-8f699d82f4a3",
   "metadata": {},
   "outputs": [],
   "source": [
    "def change_label_type(filename, label):\n",
    "    label = int(label)\n",
    "    label = tf.cast(label, tf.float32)\n",
    "    return filename, label"
   ]
  },
  {
   "cell_type": "code",
   "execution_count": 71,
   "id": "c485d206-9187-44e4-b7c1-b7cfdccdb178",
   "metadata": {},
   "outputs": [],
   "source": [
    "def prepare_valdata_csv(csv_filepath):\n",
    "    data = create_arr_from_csv(csv_filepath)\n",
    "    \n",
    "    data = np.array(data)\n",
    "    filenames = data[:,0]\n",
    "    labels = data[:,1].astype(int)\n",
    "    \n",
    "    data = tf.data.Dataset.from_tensor_slices((filenames, labels))\n",
    "    \n",
    "    data = data.map(load_and_augment_val_wav_tf_tuple)\n",
    "    data = data.map(change_label_type)\n",
    "    data = data.map(preprocess_mel)\n",
    "    return data"
   ]
  },
  {
   "cell_type": "code",
   "execution_count": 82,
   "id": "f570d1c8-c8ca-425d-9e7c-cd06abd675b8",
   "metadata": {},
   "outputs": [],
   "source": [
    "def prepare_train_data(train_pos_path, train_neg_path):\n",
    "    train_pos = tf.data.Dataset.list_files(train_pos_path+'/*.wav')\n",
    "    train_pos = train_pos.map(load_and_augment_pos_wav_tf)\n",
    "    train_pos = tf.data.Dataset.zip((train_pos, tf.data.Dataset.from_tensor_slices(tf.ones(len(train_pos)))))\n",
    "    train_pos = train_pos.map(preprocess_mel)\n",
    "    \n",
    "    train_neg = tf.data.Dataset.list_files(train_neg_path+'/*.wav')\n",
    "    train_neg = train_neg.map(load_and_augment_neg_wav_tf)\n",
    "    train_neg = tf.data.Dataset.zip((train_neg, tf.data.Dataset.from_tensor_slices(tf.zeros(len(train_neg)))))\n",
    "    train_neg = train_neg.map(preprocess_mel)\n",
    "    \n",
    "    train_data = train_pos.concatenate(train_neg)\n",
    "    return train_data"
   ]
  },
  {
   "cell_type": "code",
   "execution_count": 83,
   "id": "60d9c499-b084-41f4-bb01-e35a18f69559",
   "metadata": {},
   "outputs": [],
   "source": [
    "def prepare_val_data(val_pos_path, val_neg_path):\n",
    "    val_pos = tf.data.Dataset.list_files(val_pos_path+'/*.wav')\n",
    "    val_pos = val_pos.map(load_and_augment_val_wav_tf)\n",
    "    val_pos = tf.data.Dataset.zip((val_pos, tf.data.Dataset.from_tensor_slices(tf.ones(len(val_pos)))))\n",
    "    val_pos = val_pos.map(preprocess_mel)\n",
    "    \n",
    "    val_neg = tf.data.Dataset.list_files(val_neg_path+'/*.wav')\n",
    "    val_neg = val_neg.map(load_and_augment_val_wav_tf)\n",
    "    val_neg = tf.data.Dataset.zip((val_neg, tf.data.Dataset.from_tensor_slices(tf.zeros(len(val_neg)))))\n",
    "    val_neg = val_neg.map(preprocess_mel)\n",
    "    \n",
    "    val_data = val_pos.concatenate(val_neg)\n",
    "    return val_data"
   ]
  },
  {
   "cell_type": "code",
   "execution_count": 86,
   "id": "8dfac955-5f6f-44c6-ad92-0b985391936f",
   "metadata": {},
   "outputs": [],
   "source": [
    "def preprocess_b_dataset(b_train_pos_path, b_train_neg_path, b_val_path):\n",
    "    b_train_data = prepare_train_data(b_train_pos_path, b_train_neg_path)\n",
    "    b_val_data = prepare_valdata_csv(b_val_path)\n",
    "    return b_train_data, b_val_data"
   ]
  },
  {
   "cell_type": "code",
   "execution_count": 85,
   "id": "b6f4d3ee-835c-488b-acc5-db12fc6cce70",
   "metadata": {},
   "outputs": [],
   "source": [
    "def preprocess_v_dataset(v_train_pos_path, v_train_neg_path, v_val_pos_path, v_val_neg_path):\n",
    "    v_train_data = prepare_train_data(v_train_pos_path, v_train_neg_path)\n",
    "    v_val_data = prepare_val_data(v_val_pos_path, v_val_neg_path)\n",
    "    return v_train_data, v_val_data"
   ]
  },
  {
   "cell_type": "code",
   "execution_count": 87,
   "id": "15eb8a58-5047-40bf-880b-9344ad07a970",
   "metadata": {},
   "outputs": [],
   "source": [
    "def preprocess_combined_train_dataset(b_train_pos_path, b_train_neg_path, b_val_path, v_train_pos_path, v_train_neg_path):\n",
    "    # Combine training data from Belize and Vietnam, keeping validation dataset Belizean\n",
    "    b_train_data = prepare_b_train_data(b_train_pos_path, b_train_neg_path)\n",
    "    v_train_data = prepare_train_data(v_train_pos_path, v_train_neg_path)\n",
    "    train_data = b_train_data.concatenate(v_train_data)\n",
    "    \n",
    "    b_val_data = prepare_valdata_csv(b_val_path)\n",
    "    val_data = b_val_data\n",
    "    return train_data, val_data"
   ]
  },
  {
   "cell_type": "code",
   "execution_count": 88,
   "id": "0ce2c63c-adec-4ad7-bff7-5976e6a1cc4b",
   "metadata": {},
   "outputs": [],
   "source": [
    "def preprocess_combined_full_dataset(b_train_pos_path, b_train_neg_path, b_val_path, v_train_pos_path, v_train_neg_path, v_val_pos_path, v_val_neg_path):\n",
    "    # Combine training AND validation data from Belize and Vietnam\n",
    "    b_train_data = prepare_b_train_data(b_train_pos_path, b_train_neg_path)\n",
    "    v_train_data = prepare_train_data(v_train_pos_path, v_train_neg_path)\n",
    "    train_data = b_train_data.concatenate(v_train_data)\n",
    "    \n",
    "    b_val_data = prepare_valdata_csv(b_val_path)\n",
    "    v_val_data = prepare_val_data(v_val_pos_path, v_val_neg_path)\n",
    "    val_data = b_val_data.concatenate(v_val_data)\n",
    "    return train_data, val_data"
   ]
  },
  {
   "cell_type": "code",
   "execution_count": 156,
   "id": "e7013dd3-dc55-428e-b042-06f678d5c7f5",
   "metadata": {},
   "outputs": [],
   "source": [
    "data = train_data\n",
    "data = data.cache()\n",
    "data = data.shuffle(buffer_size=28791)\n",
    "data = data.batch(16)\n",
    "data = data.prefetch(8)"
   ]
  },
  {
   "cell_type": "code",
   "execution_count": 24,
   "id": "efdfd874-3d08-41f0-a9ed-32b43e992ca2",
   "metadata": {},
   "outputs": [],
   "source": [
    "from tensorflow.keras.models import Sequential\n",
    "from tensorflow.keras.layers import Conv2D, Dense, Flatten, Dropout, MaxPooling2D\n",
    "from tensorflow.keras.optimizers import Adam\n",
    "from tensorflow.keras.losses import BinaryCrossentropy\n",
    "from tensorflow.keras.metrics import Recall, Precision, Accuracy\n",
    "from tensorflow.keras.callbacks import ModelCheckpoint"
   ]
  },
  {
   "cell_type": "code",
   "execution_count": 25,
   "id": "c374165f-a8b4-4848-b7f6-19cae1717f14",
   "metadata": {},
   "outputs": [],
   "source": [
    "from tensorflow import keras\n",
    "from tensorflow.keras import layers, regularizers\n",
    "from tensorflow.keras.regularizers import l2"
   ]
  },
  {
   "cell_type": "code",
   "execution_count": 43,
   "id": "212268a1-4ac3-44d5-8ad3-5db1a658be4c",
   "metadata": {},
   "outputs": [
    {
     "name": "stdout",
     "output_type": "stream",
     "text": [
      "Model: \"model_6\"\n",
      "_________________________________________________________________\n",
      " Layer (type)                Output Shape              Param #   \n",
      "=================================================================\n",
      " input_8 (InputLayer)        [(None, 249, 64, 1)]      0         \n",
      "                                                                 \n",
      " conv2d_22 (Conv2D)          (None, 247, 62, 16)       160       \n",
      "                                                                 \n",
      " tf.nn.relu_14 (TFOpLambda)  (None, 247, 62, 16)       0         \n",
      "                                                                 \n",
      " max_pooling2d_16 (MaxPoolin  (None, 123, 31, 16)      0         \n",
      " g2D)                                                            \n",
      "                                                                 \n",
      " conv2d_23 (Conv2D)          (None, 121, 29, 24)       3480      \n",
      "                                                                 \n",
      " tf.nn.relu_15 (TFOpLambda)  (None, 121, 29, 24)       0         \n",
      "                                                                 \n",
      " max_pooling2d_17 (MaxPoolin  (None, 60, 14, 24)       0         \n",
      " g2D)                                                            \n",
      "                                                                 \n",
      " dropout_33 (Dropout)        (None, 60, 14, 24)        0         \n",
      "                                                                 \n",
      " flatten_11 (Flatten)        (None, 20160)             0         \n",
      "                                                                 \n",
      " dense_22 (Dense)            (None, 64)                1290304   \n",
      "                                                                 \n",
      " dropout_34 (Dropout)        (None, 64)                0         \n",
      "                                                                 \n",
      " dense_23 (Dense)            (None, 1)                 65        \n",
      "                                                                 \n",
      " dropout_35 (Dropout)        (None, 1)                 0         \n",
      "                                                                 \n",
      "=================================================================\n",
      "Total params: 1,294,009\n",
      "Trainable params: 1,294,009\n",
      "Non-trainable params: 0\n",
      "_________________________________________________________________\n"
     ]
    }
   ],
   "source": [
    "def my_model():\n",
    "    inputs = keras.Input(shape=(249,64,1))\n",
    "    \n",
    "    x = layers.Conv2D(16, (3,3))(inputs)\n",
    "    x = keras.activations.relu(x)\n",
    "    x = layers.MaxPooling2D()(x)\n",
    "    x = layers.Conv2D(24, (3,3))(x)\n",
    "    x = keras.activations.relu(x)\n",
    "    x = layers.MaxPooling2D()(x)\n",
    "    x = layers.Dropout(0.2)(x)\n",
    "    \n",
    "    x = layers.Flatten()(x)\n",
    "    x = layers.Dense(64, activation='relu')(x)\n",
    "    x = layers.Dropout(0.3)(x)\n",
    "    \n",
    "    outputs = layers.Dense(1, activation='sigmoid')(x)\n",
    "    outputs = layers.Dropout(0.3)(outputs)\n",
    "\n",
    "    model = keras.Model(inputs=inputs, outputs=outputs)\n",
    "\n",
    "    model.compile(optimizer=Adam(), loss=BinaryCrossentropy(from_logits=False),metrics=[Recall(), Precision(), Accuracy()])\n",
    "\n",
    "    return model\n",
    "\n",
    "model = my_model()\n",
    "model.summary()"
   ]
  },
  {
   "cell_type": "code",
   "execution_count": 26,
   "id": "92638847-1508-4258-9e0e-6e9dbfdc80e3",
   "metadata": {},
   "outputs": [
    {
     "name": "stdout",
     "output_type": "stream",
     "text": [
      "Model: \"sequential\"\n",
      "_________________________________________________________________\n",
      " Layer (type)                Output Shape              Param #   \n",
      "=================================================================\n",
      " conv2d (Conv2D)             (None, 247, 62, 16)       160       \n",
      "                                                                 \n",
      " conv2d_1 (Conv2D)           (None, 245, 60, 16)       2320      \n",
      "                                                                 \n",
      " flatten (Flatten)           (None, 235200)            0         \n",
      "                                                                 \n",
      " dense (Dense)               (None, 128)               30105728  \n",
      "                                                                 \n",
      " dense_1 (Dense)             (None, 1)                 129       \n",
      "                                                                 \n",
      "=================================================================\n",
      "Total params: 30,108,337\n",
      "Trainable params: 30,108,337\n",
      "Non-trainable params: 0\n",
      "_________________________________________________________________\n"
     ]
    }
   ],
   "source": [
    "model = Sequential()\n",
    "\n",
    "model.add(Conv2D(16, (3,3), activation='relu', input_shape=(249, 64, 1)))\n",
    "model.add(Conv2D(16, (3,3), activation='relu'))\n",
    "model.add(Flatten())\n",
    "model.add(Dense(128, activation='relu'))\n",
    "model.add(Dense(1, activation='sigmoid'))\n",
    "\n",
    "model.compile('Adam', loss=tf.keras.losses.BinaryCrossentropy(from_logits=False), metrics=[tf.keras.metrics.Recall(),tf.keras.metrics.Precision()])\n",
    "\n",
    "model.summary()"
   ]
  },
  {
   "cell_type": "code",
   "execution_count": 32,
   "id": "fd2ad0a2-86d1-4b15-8e42-fc27786051c1",
   "metadata": {},
   "outputs": [
    {
     "name": "stdout",
     "output_type": "stream",
     "text": [
      "Model: \"sequential\"\n",
      "_________________________________________________________________\n",
      " Layer (type)                Output Shape              Param #   \n",
      "=================================================================\n",
      " conv2d (Conv2D)             (None, 247, 62, 16)       160       \n",
      "                                                                 \n",
      " max_pooling2d (MaxPooling2D  (None, 123, 31, 16)      0         \n",
      " )                                                               \n",
      "                                                                 \n",
      " conv2d_1 (Conv2D)           (None, 121, 29, 24)       3480      \n",
      "                                                                 \n",
      " max_pooling2d_1 (MaxPooling  (None, 60, 14, 24)       0         \n",
      " 2D)                                                             \n",
      "                                                                 \n",
      " dropout (Dropout)           (None, 60, 14, 24)        0         \n",
      "                                                                 \n",
      " flatten (Flatten)           (None, 20160)             0         \n",
      "                                                                 \n",
      " dense (Dense)               (None, 64)                1290304   \n",
      "                                                                 \n",
      " dropout_1 (Dropout)         (None, 64)                0         \n",
      "                                                                 \n",
      " dense_1 (Dense)             (None, 1)                 65        \n",
      "                                                                 \n",
      " dropout_2 (Dropout)         (None, 1)                 0         \n",
      "                                                                 \n",
      "=================================================================\n",
      "Total params: 1,294,009\n",
      "Trainable params: 1,294,009\n",
      "Non-trainable params: 0\n",
      "_________________________________________________________________\n"
     ]
    }
   ],
   "source": [
    "model=Sequential()\n",
    "\n",
    "model.add(Conv2D(16, (3,3), activation='relu', input_shape=(249, 64, 1)))\n",
    "model.add(MaxPooling2D(pool_size=(2,2)))\n",
    "model.add(Conv2D(24, (3,3), activation='relu'))\n",
    "model.add(MaxPooling2D(pool_size=(2,2)))\n",
    "model.add(Dropout(0.2))\n",
    "model.add(Flatten())\n",
    "model.add(Dense(64, activation='relu', kernel_regularizer=l2(0.05)))\n",
    "model.add(Dropout(0.3))\n",
    "model.add(Dense(1, activation='sigmoid', kernel_regularizer=l2(0.05)))\n",
    "model.add(Dropout(0.3))\n",
    "\n",
    "model.compile('Adam', loss=tf.keras.losses.BinaryCrossentropy(from_logits=False), metrics=[tf.keras.metrics.Recall(),tf.keras.metrics.Precision(),tf.keras.metrics.Accuracy()])\n",
    "\n",
    "model.summary()"
   ]
  },
  {
   "cell_type": "code",
   "execution_count": 27,
   "id": "dcef451b-3fff-48c0-854d-a908761f2fac",
   "metadata": {},
   "outputs": [
    {
     "name": "stdout",
     "output_type": "stream",
     "text": [
      "Epoch 1/20\n",
      "36/36 [==============================] - 51s 1s/step - loss: 0.8182 - recall: 0.4824 - precision: 0.5829 - val_loss: 0.5709 - val_recall: 0.2879 - val_precision: 0.5938\n",
      "Epoch 2/20\n",
      "36/36 [==============================] - 30s 666ms/step - loss: 0.6199 - recall: 0.3127 - precision: 0.7168 - val_loss: 0.5859 - val_recall: 0.3333 - val_precision: 0.5500\n",
      "Epoch 3/20\n",
      "36/36 [==============================] - 28s 576ms/step - loss: 0.5654 - recall: 0.6007 - precision: 0.7488 - val_loss: 0.4526 - val_recall: 0.5316 - val_precision: 0.8571\n",
      "Epoch 4/20\n",
      "36/36 [==============================] - 24s 529ms/step - loss: 0.5356 - recall: 0.6364 - precision: 0.7285 - val_loss: 0.5351 - val_recall: 0.6143 - val_precision: 0.7288\n",
      "Epoch 5/20\n",
      "36/36 [==============================] - 23s 469ms/step - loss: 0.5156 - recall: 0.7293 - precision: 0.7239 - val_loss: 0.3988 - val_recall: 0.4677 - val_precision: 0.8529\n",
      "Epoch 6/20\n",
      "36/36 [==============================] - 21s 446ms/step - loss: 0.4673 - recall: 0.7061 - precision: 0.7828 - val_loss: 0.3985 - val_recall: 0.5574 - val_precision: 0.6939\n",
      "Epoch 7/20\n",
      "36/36 [==============================] - 20s 433ms/step - loss: 0.4906 - recall: 0.6759 - precision: 0.7634 - val_loss: 0.3476 - val_recall: 0.6301 - val_precision: 0.9388\n",
      "Epoch 8/20\n",
      "36/36 [==============================] - 18s 380ms/step - loss: 0.4219 - recall: 0.7255 - precision: 0.8150 - val_loss: 0.3300 - val_recall: 0.6571 - val_precision: 0.8519\n",
      "Epoch 9/20\n",
      "36/36 [==============================] - 17s 363ms/step - loss: 0.3813 - recall: 0.8014 - precision: 0.8222 - val_loss: 0.3817 - val_recall: 0.8971 - val_precision: 0.6630\n",
      "Epoch 10/20\n",
      "36/36 [==============================] - 17s 381ms/step - loss: 0.4413 - recall: 0.7368 - precision: 0.7879 - val_loss: 0.3263 - val_recall: 0.7949 - val_precision: 0.7750\n",
      "Epoch 11/20\n",
      "36/36 [==============================] - 16s 355ms/step - loss: 0.3864 - recall: 0.7910 - precision: 0.8314 - val_loss: 0.4127 - val_recall: 0.9189 - val_precision: 0.6071\n",
      "Epoch 12/20\n",
      "36/36 [==============================] - 15s 316ms/step - loss: 0.3363 - recall: 0.8024 - precision: 0.8712 - val_loss: 0.3424 - val_recall: 0.8780 - val_precision: 0.7129\n",
      "Epoch 13/20\n",
      "36/36 [==============================] - 13s 283ms/step - loss: 0.3598 - recall: 0.8415 - precision: 0.8544 - val_loss: 0.3176 - val_recall: 0.8750 - val_precision: 0.6292\n",
      "Epoch 14/20\n",
      "36/36 [==============================] - 12s 278ms/step - loss: 0.3337 - recall: 0.8122 - precision: 0.8326 - val_loss: 0.2480 - val_recall: 0.7089 - val_precision: 0.9032\n",
      "Epoch 15/20\n",
      "36/36 [==============================] - 12s 258ms/step - loss: 0.2950 - recall: 0.8352 - precision: 0.8571 - val_loss: 0.2839 - val_recall: 0.8875 - val_precision: 0.7396\n",
      "Epoch 16/20\n",
      "36/36 [==============================] - 12s 259ms/step - loss: 0.2525 - recall: 0.8561 - precision: 0.8788 - val_loss: 0.6200 - val_recall: 0.9583 - val_precision: 0.5227\n",
      "Epoch 17/20\n",
      "36/36 [==============================] - 12s 264ms/step - loss: 0.3745 - recall: 0.8256 - precision: 0.8192 - val_loss: 0.3547 - val_recall: 0.9324 - val_precision: 0.7113\n",
      "Epoch 18/20\n",
      "36/36 [==============================] - 11s 250ms/step - loss: 0.3225 - recall: 0.8526 - precision: 0.8492 - val_loss: 0.3581 - val_recall: 0.8571 - val_precision: 0.6750\n",
      "Epoch 19/20\n",
      "36/36 [==============================] - 11s 251ms/step - loss: 0.3174 - recall: 0.8086 - precision: 0.8734 - val_loss: 0.2537 - val_recall: 0.7875 - val_precision: 0.8873\n",
      "Epoch 20/20\n",
      "36/36 [==============================] - 11s 250ms/step - loss: 0.2698 - recall: 0.8804 - precision: 0.9135 - val_loss: 0.2613 - val_recall: 0.9143 - val_precision: 0.7273\n"
     ]
    }
   ],
   "source": [
    "hist = model.fit(train, epochs=20, validation_data=test)"
   ]
  },
  {
   "cell_type": "code",
   "execution_count": 93,
   "id": "974ef2a7-8035-4eed-99a2-5bc60bacb9d4",
   "metadata": {},
   "outputs": [
    {
     "data": {
      "text/plain": [
       "{'loss': [0.0199140515178442,\n",
       "  8.229680949499952e-34,\n",
       "  8.083626694765245e-35,\n",
       "  2.907081329473761e-34],\n",
       " 'recall_1': [0.9722222089767456, 1.0, 1.0, 1.0],\n",
       " 'precision_1': [1.0, 1.0, 1.0, 1.0],\n",
       " 'val_loss': [6.168291811569756e-34,\n",
       "  1.4702901050212623e-37,\n",
       "  2.0649835505512273e-35,\n",
       "  1.7371968360300622e-35],\n",
       " 'val_recall_1': [1.0, 1.0, 1.0, 1.0],\n",
       " 'val_precision_1': [1.0, 1.0, 1.0, 1.0]}"
      ]
     },
     "execution_count": 93,
     "metadata": {},
     "output_type": "execute_result"
    }
   ],
   "source": [
    "hist.history"
   ]
  },
  {
   "cell_type": "code",
   "execution_count": 94,
   "id": "385ad236-9bd4-4025-8925-04da81eed4a0",
   "metadata": {},
   "outputs": [
    {
     "data": {
      "text/plain": [
       "<function matplotlib.pyplot.show(close=None, block=None)>"
      ]
     },
     "execution_count": 94,
     "metadata": {},
     "output_type": "execute_result"
    },
    {
     "data": {
      "image/png": "[encoded data removed]",
      "text/plain": [
       "<Figure size 640x480 with 1 Axes>"
      ]
     },
     "metadata": {},
     "output_type": "display_data"
    }
   ],
   "source": [
    "plt.title('Loss')\n",
    "plt.plot((hist.history['loss']), 'r', label='Training Loss')\n",
    "plt.plot((hist.history['val_loss']), 'b', label='Val Loss')\n",
    "plt.xlabel('Epochs')\n",
    "plt.ylabel('Loss')\n",
    "plt.legend()\n",
    "plt.show"
   ]
  },
  {
   "cell_type": "code",
   "execution_count": 96,
   "id": "f79ebf2d-4038-4144-b399-ec8e6abb57b6",
   "metadata": {},
   "outputs": [
    {
     "data": {
      "text/plain": [
       "[<matplotlib.lines.Line2D at 0x1da85c87af0>]"
      ]
     },
     "execution_count": 96,
     "metadata": {},
     "output_type": "execute_result"
    },
    {
     "data": {
      "image/png": "[encoded data removed]",
      "text/plain": [
       "<Figure size 640x480 with 1 Axes>"
      ]
     },
     "metadata": {},
     "output_type": "display_data"
    }
   ],
   "source": [
    "plt.title('Precision')\n",
    "plt.plot((hist.history['precision_1']), 'r', label='Training Precision')\n",
    "plt.plot((hist.history['val_precision_1']), 'b', label='Val Precision')"
   ]
  },
  {
   "cell_type": "code",
   "execution_count": 97,
   "id": "d05dbdb8-cd14-4114-8a0f-aac5caab9a79",
   "metadata": {},
   "outputs": [
    {
     "data": {
      "image/png": "[encoded data removed]",
      "text/plain": [
       "<Figure size 640x480 with 1 Axes>"
      ]
     },
     "metadata": {},
     "output_type": "display_data"
    }
   ],
   "source": [
    "plt.title('Recall')\n",
    "plt.plot(hist.history['recall_1'], 'r', label='Training Recall')\n",
    "plt.plot(hist.history['val_recall_1'], 'b', label='Val Recall')\n",
    "plt.show()"
   ]
  },
  {
   "cell_type": "code",
   "execution_count": 28,
   "id": "4582a71b-2daa-413f-989e-b95a421b2f70",
   "metadata": {},
   "outputs": [],
   "source": [
    "model.save('9-22PM,1-12-25,B-Dataset,30mPara,20E.keras', 'model_save_dir')"
   ]
  },
  {
   "cell_type": "code",
   "execution_count": null,
   "id": "f7401c11-d567-4061-a25a-c9aad54c0004",
   "metadata": {},
   "outputs": [],
   "source": []
  }
 ],
 "metadata": {
  "kernelspec": {
   "display_name": "gunshot_tf",
   "language": "python",
   "name": "gunshot_tf"
  },
  "language_info": {
   "codemirror_mode": {
    "name": "ipython",
    "version": 3
   },
   "file_extension": ".py",
   "mimetype": "text/x-python",
   "name": "python",
   "nbconvert_exporter": "python",
   "pygments_lexer": "ipython3",
   "version": "3.10.2"
  }
 },
 "nbformat": 4,
 "nbformat_minor": 5
}
