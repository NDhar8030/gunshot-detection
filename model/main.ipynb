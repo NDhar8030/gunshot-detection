{
 "cells": [
  {
   "cell_type": "code",
   "execution_count": 1,
   "id": "47ee38b7-ab9f-427c-96f6-bf1c3174adac",
   "metadata": {
    "scrolled": true
   },
   "outputs": [
    {
     "name": "stdout",
     "output_type": "stream",
     "text": [
      "Requirement already satisfied: tensorflow==2.8.0 in c:\\users\\foxir\\anaconda3\\envs\\gunshot\\lib\\site-packages (2.8.0)\n",
      "Requirement already satisfied: absl-py>=0.4.0 in c:\\users\\foxir\\anaconda3\\envs\\gunshot\\lib\\site-packages (from tensorflow==2.8.0) (2.1.0)\n",
      "Requirement already satisfied: astunparse>=1.6.0 in c:\\users\\foxir\\anaconda3\\envs\\gunshot\\lib\\site-packages (from tensorflow==2.8.0) (1.6.3)\n",
      "Requirement already satisfied: flatbuffers>=1.12 in c:\\users\\foxir\\anaconda3\\envs\\gunshot\\lib\\site-packages (from tensorflow==2.8.0) (24.3.25)\n",
      "Requirement already satisfied: gast>=0.2.1 in c:\\users\\foxir\\anaconda3\\envs\\gunshot\\lib\\site-packages (from tensorflow==2.8.0) (0.4.0)\n",
      "Requirement already satisfied: google-pasta>=0.1.1 in c:\\users\\foxir\\anaconda3\\envs\\gunshot\\lib\\site-packages (from tensorflow==2.8.0) (0.2.0)\n",
      "Requirement already satisfied: h5py>=2.9.0 in c:\\users\\foxir\\anaconda3\\envs\\gunshot\\lib\\site-packages (from tensorflow==2.8.0) (3.12.1)\n",
      "Requirement already satisfied: keras-preprocessing>=1.1.1 in c:\\users\\foxir\\anaconda3\\envs\\gunshot\\lib\\site-packages (from tensorflow==2.8.0) (1.1.2)\n",
      "Requirement already satisfied: libclang>=9.0.1 in c:\\users\\foxir\\anaconda3\\envs\\gunshot\\lib\\site-packages (from tensorflow==2.8.0) (18.1.1)\n",
      "Requirement already satisfied: numpy>=1.20 in c:\\users\\foxir\\anaconda3\\envs\\gunshot\\lib\\site-packages (from tensorflow==2.8.0) (1.26.4)\n",
      "Requirement already satisfied: opt-einsum>=2.3.2 in c:\\users\\foxir\\anaconda3\\envs\\gunshot\\lib\\site-packages (from tensorflow==2.8.0) (3.3.0)\n",
      "Requirement already satisfied: protobuf>=3.9.2 in c:\\users\\foxir\\anaconda3\\envs\\gunshot\\lib\\site-packages (from tensorflow==2.8.0) (3.20.3)\n",
      "Requirement already satisfied: setuptools in c:\\users\\foxir\\anaconda3\\envs\\gunshot\\lib\\site-packages (from tensorflow==2.8.0) (75.1.0)\n",
      "Requirement already satisfied: six>=1.12.0 in c:\\users\\foxir\\anaconda3\\envs\\gunshot\\lib\\site-packages (from tensorflow==2.8.0) (1.16.0)\n",
      "Requirement already satisfied: termcolor>=1.1.0 in c:\\users\\foxir\\anaconda3\\envs\\gunshot\\lib\\site-packages (from tensorflow==2.8.0) (2.1.0)\n",
      "Requirement already satisfied: typing-extensions>=3.6.6 in c:\\users\\foxir\\anaconda3\\envs\\gunshot\\lib\\site-packages (from tensorflow==2.8.0) (4.11.0)\n",
      "Requirement already satisfied: wrapt>=1.11.0 in c:\\users\\foxir\\anaconda3\\envs\\gunshot\\lib\\site-packages (from tensorflow==2.8.0) (1.14.1)\n",
      "Requirement already satisfied: tensorboard<2.9,>=2.8 in c:\\users\\foxir\\anaconda3\\envs\\gunshot\\lib\\site-packages (from tensorflow==2.8.0) (2.8.0)\n",
      "Requirement already satisfied: tf-estimator-nightly==2.8.0.dev2021122109 in c:\\users\\foxir\\anaconda3\\envs\\gunshot\\lib\\site-packages (from tensorflow==2.8.0) (2.8.0.dev2021122109)\n",
      "Requirement already satisfied: keras<2.9,>=2.8.0rc0 in c:\\users\\foxir\\anaconda3\\envs\\gunshot\\lib\\site-packages (from tensorflow==2.8.0) (2.8.0)\n",
      "Requirement already satisfied: tensorflow-io-gcs-filesystem>=0.23.1 in c:\\users\\foxir\\anaconda3\\envs\\gunshot\\lib\\site-packages (from tensorflow==2.8.0) (0.25.0)\n",
      "Requirement already satisfied: grpcio<2.0,>=1.24.3 in c:\\users\\foxir\\anaconda3\\envs\\gunshot\\lib\\site-packages (from tensorflow==2.8.0) (1.48.2)\n",
      "Requirement already satisfied: wheel<1.0,>=0.23.0 in c:\\users\\foxir\\anaconda3\\envs\\gunshot\\lib\\site-packages (from astunparse>=1.6.0->tensorflow==2.8.0) (0.44.0)\n",
      "Requirement already satisfied: google-auth<3,>=1.6.3 in c:\\users\\foxir\\anaconda3\\envs\\gunshot\\lib\\site-packages (from tensorboard<2.9,>=2.8->tensorflow==2.8.0) (2.29.0)\n",
      "Requirement already satisfied: google-auth-oauthlib<0.5,>=0.4.1 in c:\\users\\foxir\\anaconda3\\envs\\gunshot\\lib\\site-packages (from tensorboard<2.9,>=2.8->tensorflow==2.8.0) (0.4.4)\n",
      "Requirement already satisfied: markdown>=2.6.8 in c:\\users\\foxir\\anaconda3\\envs\\gunshot\\lib\\site-packages (from tensorboard<2.9,>=2.8->tensorflow==2.8.0) (3.4.1)\n",
      "Requirement already satisfied: requests<3,>=2.21.0 in c:\\users\\foxir\\anaconda3\\envs\\gunshot\\lib\\site-packages (from tensorboard<2.9,>=2.8->tensorflow==2.8.0) (2.32.3)\n",
      "Requirement already satisfied: tensorboard-data-server<0.7.0,>=0.6.0 in c:\\users\\foxir\\anaconda3\\envs\\gunshot\\lib\\site-packages (from tensorboard<2.9,>=2.8->tensorflow==2.8.0) (0.6.1)\n",
      "Requirement already satisfied: tensorboard-plugin-wit>=1.6.0 in c:\\users\\foxir\\anaconda3\\envs\\gunshot\\lib\\site-packages (from tensorboard<2.9,>=2.8->tensorflow==2.8.0) (1.8.1)\n",
      "Requirement already satisfied: werkzeug>=0.11.15 in c:\\users\\foxir\\anaconda3\\envs\\gunshot\\lib\\site-packages (from tensorboard<2.9,>=2.8->tensorflow==2.8.0) (3.0.6)\n",
      "Requirement already satisfied: cachetools<6.0,>=2.0.0 in c:\\users\\foxir\\anaconda3\\envs\\gunshot\\lib\\site-packages (from google-auth<3,>=1.6.3->tensorboard<2.9,>=2.8->tensorflow==2.8.0) (5.3.3)\n",
      "Requirement already satisfied: pyasn1-modules>=0.2.1 in c:\\users\\foxir\\anaconda3\\envs\\gunshot\\lib\\site-packages (from google-auth<3,>=1.6.3->tensorboard<2.9,>=2.8->tensorflow==2.8.0) (0.2.8)\n",
      "Requirement already satisfied: rsa<5,>=3.1.4 in c:\\users\\foxir\\anaconda3\\envs\\gunshot\\lib\\site-packages (from google-auth<3,>=1.6.3->tensorboard<2.9,>=2.8->tensorflow==2.8.0) (4.7.2)\n",
      "Requirement already satisfied: requests-oauthlib>=0.7.0 in c:\\users\\foxir\\anaconda3\\envs\\gunshot\\lib\\site-packages (from google-auth-oauthlib<0.5,>=0.4.1->tensorboard<2.9,>=2.8->tensorflow==2.8.0) (2.0.0)\n",
      "Requirement already satisfied: charset-normalizer<4,>=2 in c:\\users\\foxir\\anaconda3\\envs\\gunshot\\lib\\site-packages (from requests<3,>=2.21.0->tensorboard<2.9,>=2.8->tensorflow==2.8.0) (3.3.2)\n",
      "Requirement already satisfied: idna<4,>=2.5 in c:\\users\\foxir\\anaconda3\\envs\\gunshot\\lib\\site-packages (from requests<3,>=2.21.0->tensorboard<2.9,>=2.8->tensorflow==2.8.0) (3.7)\n",
      "Requirement already satisfied: urllib3<3,>=1.21.1 in c:\\users\\foxir\\anaconda3\\envs\\gunshot\\lib\\site-packages (from requests<3,>=2.21.0->tensorboard<2.9,>=2.8->tensorflow==2.8.0) (2.2.3)\n",
      "Requirement already satisfied: certifi>=2017.4.17 in c:\\users\\foxir\\anaconda3\\envs\\gunshot\\lib\\site-packages (from requests<3,>=2.21.0->tensorboard<2.9,>=2.8->tensorflow==2.8.0) (2024.8.30)\n",
      "Requirement already satisfied: MarkupSafe>=2.1.1 in c:\\users\\foxir\\anaconda3\\envs\\gunshot\\lib\\site-packages (from werkzeug>=0.11.15->tensorboard<2.9,>=2.8->tensorflow==2.8.0) (2.1.3)\n",
      "Requirement already satisfied: pyasn1<0.5.0,>=0.4.6 in c:\\users\\foxir\\anaconda3\\envs\\gunshot\\lib\\site-packages (from pyasn1-modules>=0.2.1->google-auth<3,>=1.6.3->tensorboard<2.9,>=2.8->tensorflow==2.8.0) (0.4.8)\n",
      "Requirement already satisfied: oauthlib>=3.0.0 in c:\\users\\foxir\\anaconda3\\envs\\gunshot\\lib\\site-packages (from requests-oauthlib>=0.7.0->google-auth-oauthlib<0.5,>=0.4.1->tensorboard<2.9,>=2.8->tensorflow==2.8.0) (3.2.2)\n",
      "Requirement already satisfied: tensorflow_io==0.25.0 in c:\\users\\foxir\\anaconda3\\envs\\gunshot\\lib\\site-packages (0.25.0)\n",
      "Requirement already satisfied: tensorflow-io-gcs-filesystem==0.25.0 in c:\\users\\foxir\\anaconda3\\envs\\gunshot\\lib\\site-packages (from tensorflow_io==0.25.0) (0.25.0)\n",
      "Requirement already satisfied: matplotlib in c:\\users\\foxir\\anaconda3\\envs\\gunshot\\lib\\site-packages (3.9.2)\n",
      "Requirement already satisfied: contourpy>=1.0.1 in c:\\users\\foxir\\anaconda3\\envs\\gunshot\\lib\\site-packages (from matplotlib) (1.3.1)\n",
      "Requirement already satisfied: cycler>=0.10 in c:\\users\\foxir\\anaconda3\\envs\\gunshot\\lib\\site-packages (from matplotlib) (0.11.0)\n",
      "Requirement already satisfied: fonttools>=4.22.0 in c:\\users\\foxir\\anaconda3\\envs\\gunshot\\lib\\site-packages (from matplotlib) (4.51.0)\n",
      "Requirement already satisfied: kiwisolver>=1.3.1 in c:\\users\\foxir\\anaconda3\\envs\\gunshot\\lib\\site-packages (from matplotlib) (1.4.4)\n",
      "Requirement already satisfied: numpy>=1.23 in c:\\users\\foxir\\anaconda3\\envs\\gunshot\\lib\\site-packages (from matplotlib) (1.26.4)\n",
      "Requirement already satisfied: packaging>=20.0 in c:\\users\\foxir\\anaconda3\\envs\\gunshot\\lib\\site-packages (from matplotlib) (24.1)\n",
      "Requirement already satisfied: pillow>=8 in c:\\users\\foxir\\anaconda3\\envs\\gunshot\\lib\\site-packages (from matplotlib) (11.0.0)\n",
      "Requirement already satisfied: pyparsing>=2.3.1 in c:\\users\\foxir\\anaconda3\\envs\\gunshot\\lib\\site-packages (from matplotlib) (3.2.0)\n",
      "Requirement already satisfied: python-dateutil>=2.7 in c:\\users\\foxir\\anaconda3\\envs\\gunshot\\lib\\site-packages (from matplotlib) (2.9.0.post0)\n",
      "Requirement already satisfied: six>=1.5 in c:\\users\\foxir\\anaconda3\\envs\\gunshot\\lib\\site-packages (from python-dateutil>=2.7->matplotlib) (1.16.0)\n",
      "Collecting librosa\n",
      "  Using cached librosa-0.10.2.post1-py3-none-any.whl.metadata (8.6 kB)\n",
      "Collecting audioread>=2.1.9 (from librosa)\n",
      "  Using cached audioread-3.0.1-py3-none-any.whl.metadata (8.4 kB)\n",
      "Requirement already satisfied: numpy!=1.22.0,!=1.22.1,!=1.22.2,>=1.20.3 in c:\\users\\foxir\\anaconda3\\envs\\gunshot\\lib\\site-packages (from librosa) (1.26.4)\n",
      "Requirement already satisfied: scipy>=1.2.0 in c:\\users\\foxir\\anaconda3\\envs\\gunshot\\lib\\site-packages (from librosa) (1.14.1)\n",
      "Collecting scikit-learn>=0.20.0 (from librosa)\n",
      "  Using cached scikit_learn-1.5.2-cp310-cp310-win_amd64.whl.metadata (13 kB)\n",
      "Collecting joblib>=0.14 (from librosa)\n",
      "  Using cached joblib-1.4.2-py3-none-any.whl.metadata (5.4 kB)\n",
      "Requirement already satisfied: decorator>=4.3.0 in c:\\users\\foxir\\anaconda3\\envs\\gunshot\\lib\\site-packages (from librosa) (5.1.1)\n",
      "Collecting numba>=0.51.0 (from librosa)\n",
      "  Using cached numba-0.60.0-cp310-cp310-win_amd64.whl.metadata (2.8 kB)\n",
      "Collecting soundfile>=0.12.1 (from librosa)\n",
      "  Using cached soundfile-0.12.1-py2.py3-none-win_amd64.whl.metadata (14 kB)\n",
      "Collecting pooch>=1.1 (from librosa)\n",
      "  Using cached pooch-1.8.2-py3-none-any.whl.metadata (10 kB)\n",
      "Collecting soxr>=0.3.2 (from librosa)\n",
      "  Using cached soxr-0.5.0.post1-cp310-cp310-win_amd64.whl.metadata (5.6 kB)\n",
      "Requirement already satisfied: typing-extensions>=4.1.1 in c:\\users\\foxir\\anaconda3\\envs\\gunshot\\lib\\site-packages (from librosa) (4.11.0)\n",
      "Collecting lazy-loader>=0.1 (from librosa)\n",
      "  Using cached lazy_loader-0.4-py3-none-any.whl.metadata (7.6 kB)\n",
      "Collecting msgpack>=1.0 (from librosa)\n",
      "  Using cached msgpack-1.1.0-cp310-cp310-win_amd64.whl.metadata (8.6 kB)\n",
      "Requirement already satisfied: packaging in c:\\users\\foxir\\anaconda3\\envs\\gunshot\\lib\\site-packages (from lazy-loader>=0.1->librosa) (24.1)\n",
      "Collecting llvmlite<0.44,>=0.43.0dev0 (from numba>=0.51.0->librosa)\n",
      "  Using cached llvmlite-0.43.0-cp310-cp310-win_amd64.whl.metadata (4.9 kB)\n",
      "Requirement already satisfied: platformdirs>=2.5.0 in c:\\users\\foxir\\anaconda3\\envs\\gunshot\\lib\\site-packages (from pooch>=1.1->librosa) (3.10.0)\n",
      "Requirement already satisfied: requests>=2.19.0 in c:\\users\\foxir\\anaconda3\\envs\\gunshot\\lib\\site-packages (from pooch>=1.1->librosa) (2.32.3)\n",
      "Collecting threadpoolctl>=3.1.0 (from scikit-learn>=0.20.0->librosa)\n",
      "  Using cached threadpoolctl-3.5.0-py3-none-any.whl.metadata (13 kB)\n",
      "Requirement already satisfied: cffi>=1.0 in c:\\users\\foxir\\anaconda3\\envs\\gunshot\\lib\\site-packages (from soundfile>=0.12.1->librosa) (1.17.1)\n",
      "Requirement already satisfied: pycparser in c:\\users\\foxir\\anaconda3\\envs\\gunshot\\lib\\site-packages (from cffi>=1.0->soundfile>=0.12.1->librosa) (2.21)\n",
      "Requirement already satisfied: charset-normalizer<4,>=2 in c:\\users\\foxir\\anaconda3\\envs\\gunshot\\lib\\site-packages (from requests>=2.19.0->pooch>=1.1->librosa) (3.3.2)\n",
      "Requirement already satisfied: idna<4,>=2.5 in c:\\users\\foxir\\anaconda3\\envs\\gunshot\\lib\\site-packages (from requests>=2.19.0->pooch>=1.1->librosa) (3.7)\n",
      "Requirement already satisfied: urllib3<3,>=1.21.1 in c:\\users\\foxir\\anaconda3\\envs\\gunshot\\lib\\site-packages (from requests>=2.19.0->pooch>=1.1->librosa) (2.2.3)\n",
      "Requirement already satisfied: certifi>=2017.4.17 in c:\\users\\foxir\\anaconda3\\envs\\gunshot\\lib\\site-packages (from requests>=2.19.0->pooch>=1.1->librosa) (2024.8.30)\n",
      "Using cached librosa-0.10.2.post1-py3-none-any.whl (260 kB)\n",
      "Using cached audioread-3.0.1-py3-none-any.whl (23 kB)\n",
      "Using cached joblib-1.4.2-py3-none-any.whl (301 kB)\n",
      "Using cached lazy_loader-0.4-py3-none-any.whl (12 kB)\n",
      "Using cached msgpack-1.1.0-cp310-cp310-win_amd64.whl (74 kB)\n",
      "Using cached numba-0.60.0-cp310-cp310-win_amd64.whl (2.7 MB)\n",
      "Using cached pooch-1.8.2-py3-none-any.whl (64 kB)\n",
      "Using cached scikit_learn-1.5.2-cp310-cp310-win_amd64.whl (11.0 MB)\n",
      "Using cached soundfile-0.12.1-py2.py3-none-win_amd64.whl (1.0 MB)\n",
      "Using cached soxr-0.5.0.post1-cp310-cp310-win_amd64.whl (166 kB)\n",
      "Using cached llvmlite-0.43.0-cp310-cp310-win_amd64.whl (28.1 MB)\n",
      "Using cached threadpoolctl-3.5.0-py3-none-any.whl (18 kB)\n",
      "Installing collected packages: threadpoolctl, soxr, msgpack, llvmlite, lazy-loader, joblib, audioread, soundfile, scikit-learn, pooch, numba, librosa\n",
      "Successfully installed audioread-3.0.1 joblib-1.4.2 lazy-loader-0.4 librosa-0.10.2.post1 llvmlite-0.43.0 msgpack-1.1.0 numba-0.60.0 pooch-1.8.2 scikit-learn-1.5.2 soundfile-0.12.1 soxr-0.5.0.post1 threadpoolctl-3.5.0\n"
     ]
    }
   ],
   "source": [
    "!pip install tensorflow==2.8.0\n",
    "!pip install tensorflow_io==0.25.0\n",
    "!pip install matplotlib\n",
    "!pip install librosa"
   ]
  },
  {
   "cell_type": "code",
   "execution_count": 8,
   "id": "86806dae-63ee-4652-8081-a422525afe7e",
   "metadata": {
    "scrolled": true
   },
   "outputs": [
    {
     "name": "stdout",
     "output_type": "stream",
     "text": [
      "Package                      Version\n",
      "---------------------------- -------------------\n",
      "absl-py                      2.1.0\n",
      "aiohappyeyeballs             2.4.0\n",
      "aiohttp                      3.10.5\n",
      "aiosignal                    1.2.0\n",
      "anyio                        4.6.2\n",
      "argon2-cffi                  21.3.0\n",
      "argon2-cffi-bindings         21.2.0\n",
      "asttokens                    2.0.5\n",
      "astunparse                   1.6.3\n",
      "async-lru                    2.0.4\n",
      "async-timeout                4.0.3\n",
      "attrs                        24.2.0\n",
      "audioread                    3.0.1\n",
      "Babel                        2.11.0\n",
      "beautifulsoup4               4.12.3\n",
      "bleach                       6.2.0\n",
      "blinker                      1.6.2\n",
      "Brotli                       1.0.9\n",
      "cachetools                   5.3.3\n",
      "certifi                      2024.8.30\n",
      "cffi                         1.17.1\n",
      "charset-normalizer           3.3.2\n",
      "click                        8.1.7\n",
      "colorama                     0.4.6\n",
      "comm                         0.2.1\n",
      "contourpy                    1.3.1\n",
      "cryptography                 41.0.3\n",
      "cycler                       0.11.0\n",
      "debugpy                      1.6.7\n",
      "decorator                    5.1.1\n",
      "defusedxml                   0.7.1\n",
      "exceptiongroup               1.2.0\n",
      "executing                    0.8.3\n",
      "fastjsonschema               2.20.0\n",
      "flatbuffers                  24.3.25\n",
      "fonttools                    4.51.0\n",
      "frozenlist                   1.5.0\n",
      "gast                         0.4.0\n",
      "google-auth                  2.29.0\n",
      "google-auth-oauthlib         0.4.4\n",
      "google-pasta                 0.2.0\n",
      "grpcio                       1.48.2\n",
      "h11                          0.14.0\n",
      "h5py                         3.12.1\n",
      "httpcore                     1.0.2\n",
      "httpx                        0.27.0\n",
      "idna                         3.7\n",
      "ipykernel                    6.29.5\n",
      "ipython                      8.27.0\n",
      "ipywidgets                   8.1.2\n",
      "jedi                         0.19.1\n",
      "Jinja2                       3.1.4\n",
      "joblib                       1.4.2\n",
      "json5                        0.9.25\n",
      "jsonschema                   4.23.0\n",
      "jsonschema-specifications    2023.7.1\n",
      "jupyter                      1.0.0\n",
      "jupyter_client               8.6.0\n",
      "jupyter-console              6.6.3\n",
      "jupyter_core                 5.7.2\n",
      "jupyter-events               0.10.0\n",
      "jupyter-lsp                  2.2.0\n",
      "jupyter_server               2.14.1\n",
      "jupyter_server_terminals     0.4.4\n",
      "jupyterlab                   4.2.5\n",
      "jupyterlab-pygments          0.1.2\n",
      "jupyterlab_server            2.27.3\n",
      "jupyterlab-widgets           3.0.10\n",
      "keras                        2.8.0\n",
      "Keras-Preprocessing          1.1.2\n",
      "kiwisolver                   1.4.4\n",
      "lazy_loader                  0.4\n",
      "libclang                     18.1.1\n",
      "librosa                      0.10.2.post1\n",
      "llvmlite                     0.43.0\n",
      "Markdown                     3.4.1\n",
      "MarkupSafe                   2.1.3\n",
      "matplotlib                   3.9.2\n",
      "matplotlib-inline            0.1.6\n",
      "mistune                      2.0.4\n",
      "mkl_fft                      1.3.11\n",
      "mkl_random                   1.2.8\n",
      "mkl-service                  2.4.0\n",
      "msgpack                      1.1.0\n",
      "multidict                    6.1.0\n",
      "nbclient                     0.8.0\n",
      "nbconvert                    7.16.4\n",
      "nbformat                     5.10.4\n",
      "nest-asyncio                 1.6.0\n",
      "notebook                     7.2.2\n",
      "notebook_shim                0.2.3\n",
      "numba                        0.60.0\n",
      "numpy                        1.26.4\n",
      "oauthlib                     3.2.2\n",
      "opt-einsum                   3.3.0\n",
      "overrides                    7.4.0\n",
      "packaging                    24.1\n",
      "pandocfilters                1.5.0\n",
      "parso                        0.8.3\n",
      "pillow                       11.0.0\n",
      "pip                          24.2\n",
      "platformdirs                 3.10.0\n",
      "ply                          3.11\n",
      "pooch                        1.8.2\n",
      "prometheus_client            0.21.0\n",
      "prompt-toolkit               3.0.43\n",
      "propcache                    0.2.0\n",
      "protobuf                     3.20.3\n",
      "psutil                       5.9.0\n",
      "pure-eval                    0.2.2\n",
      "pyasn1                       0.4.8\n",
      "pyasn1-modules               0.2.8\n",
      "pycparser                    2.21\n",
      "Pygments                     2.15.1\n",
      "PyJWT                        2.9.0\n",
      "pyOpenSSL                    23.2.0\n",
      "pyparsing                    3.2.0\n",
      "PyQt5                        5.15.10\n",
      "PyQt5-sip                    12.13.0\n",
      "PySocks                      1.7.1\n",
      "python-dateutil              2.9.0.post0\n",
      "python-json-logger           2.0.7\n",
      "pytz                         2024.1\n",
      "pywin32                      305.1\n",
      "pywinpty                     2.0.10\n",
      "PyYAML                       6.0.2\n",
      "pyzmq                        25.1.2\n",
      "qtconsole                    5.6.0\n",
      "QtPy                         2.4.1\n",
      "referencing                  0.30.2\n",
      "requests                     2.32.3\n",
      "requests-oauthlib            2.0.0\n",
      "rfc3339-validator            0.1.4\n",
      "rfc3986-validator            0.1.1\n",
      "rpds-py                      0.10.6\n",
      "rsa                          4.7.2\n",
      "scikit-learn                 1.5.2\n",
      "scipy                        1.14.1\n",
      "Send2Trash                   1.8.2\n",
      "setuptools                   75.1.0\n",
      "sip                          6.7.12\n",
      "six                          1.16.0\n",
      "sniffio                      1.3.0\n",
      "soundfile                    0.12.1\n",
      "soupsieve                    2.5\n",
      "soxr                         0.5.0.post1\n",
      "stack-data                   0.2.0\n",
      "tensorboard                  2.8.0\n",
      "tensorboard-data-server      0.6.1\n",
      "tensorboard-plugin-wit       1.8.1\n",
      "tensorflow                   2.8.0\n",
      "tensorflow-estimator         2.10.0\n",
      "tensorflow-io                0.25.0\n",
      "tensorflow-io-gcs-filesystem 0.25.0\n",
      "termcolor                    2.1.0\n",
      "terminado                    0.17.1\n",
      "tf-estimator-nightly         2.8.0.dev2021122109\n",
      "threadpoolctl                3.5.0\n",
      "tinycss2                     1.2.1\n",
      "tomli                        2.0.1\n",
      "tornado                      6.4.1\n",
      "traitlets                    5.14.3\n",
      "typing_extensions            4.11.0\n",
      "unicodedata2                 15.1.0\n",
      "urllib3                      2.2.3\n",
      "wcwidth                      0.2.5\n",
      "webencodings                 0.5.1\n",
      "websocket-client             1.8.0\n",
      "Werkzeug                     3.0.6\n",
      "wheel                        0.44.0\n",
      "widgetsnbextension           4.0.10\n",
      "win-inet-pton                1.1.0\n",
      "wrapt                        1.14.1\n",
      "yarl                         1.18.0\n"
     ]
    }
   ],
   "source": [
    "!pip list"
   ]
  },
  {
   "cell_type": "code",
   "execution_count": 2,
   "id": "3df6853a-eff4-4107-9f76-8736c2542e54",
   "metadata": {},
   "outputs": [],
   "source": [
    "import os\n",
    "from matplotlib import pyplot as plt\n",
    "import tensorflow as tf\n",
    "import tensorflow_io as tfio\n",
    "import librosa\n",
    "import numpy as np"
   ]
  },
  {
   "cell_type": "code",
   "execution_count": 5,
   "id": "49604198-9e3e-4974-86af-e26b83cd9fb4",
   "metadata": {},
   "outputs": [],
   "source": [
    "from tensorflow.keras.models import Sequential\n",
    "from tensorflow.keras.layers import Conv2D, Dense, Flatten\n",
    "from tensorflow.keras.callbacks import ModelCheckpoint"
   ]
  },
  {
   "cell_type": "code",
   "execution_count": 91,
   "id": "5497440f-aad0-4da4-b77e-641da44cbb79",
   "metadata": {},
   "outputs": [],
   "source": [
    "data = os.path.join('belize-data')\n",
    "train_dir = os.path.join('belize-data', 'Training data')\n",
    "val_dir = os.path.join('belize-data', 'Validation data')\n",
    "background_dir = os.path.join('belize-data', 'Training data', 'Background')\n",
    "gunshot_dir = os.path.join('belize-data', 'Training data', 'Gunshot')\n",
    "model_save_dir = os.path.join('model_exports')\n",
    "outputs_dir = os.path.join('outputs')"
   ]
  },
  {
   "cell_type": "code",
   "execution_count": 71,
   "id": "0f57e239-a368-4618-b015-4ecde63fc2d3",
   "metadata": {},
   "outputs": [],
   "source": [
    "background_wav = os.path.join('belize-data', 'Training data', 'Background', '5B1E8AFA.wav')\n",
    "gunshot_wav = os.path.join('belize-data', 'Training data', 'Gunshot', '5B9FE44F_3709e9f5ff-aa0a-4ba9-9e61-d64d9666527614b02738-a1c6-43fb-b13e-0651261d1ca002c1d2c0-064c-4f43-b3a6-9da25d3e0930.wav')"
   ]
  },
  {
   "cell_type": "code",
   "execution_count": 86,
   "id": "83836a43-3bba-445a-a7ac-cb9ac1131006",
   "metadata": {},
   "outputs": [],
   "source": [
    "def load_wav_8k_mono(filename):\n",
    "    file_contents = tf.io.read_file(filename)\n",
    "    wav, sample_rate = tf.audio.decode_wav(file_contents, desired_channels=1)\n",
    "    if sample_rate != 8000:\n",
    "        wav = tfio.audio.resample(wav, rate_in=sample_rate, rate_out=8000)\n",
    "    return wav"
   ]
  },
  {
   "cell_type": "code",
   "execution_count": 84,
   "id": "04ca969f-d643-48e4-a28d-e0b94e21af83",
   "metadata": {
    "scrolled": true
   },
   "outputs": [],
   "source": [
    "nwav = load_wav_8k_mono(background_wav)\n",
    "wav = load_wav_8k_mono(gunshot_wav)"
   ]
  },
  {
   "cell_type": "code",
   "execution_count": 88,
   "id": "dde6879f-2b7c-4429-8902-14bd9e453de4",
   "metadata": {},
   "outputs": [
    {
     "data": {
      "text/plain": [
       "<function matplotlib.pyplot.show(close=None, block=None)>"
      ]
     },
     "execution_count": 88,
     "metadata": {},
     "output_type": "execute_result"
    },
    {
     "data": {
      "image/png": "[encoded data removed]",
      "text/plain": [
       "<Figure size 640x480 with 1 Axes>"
      ]
     },
     "metadata": {},
     "output_type": "display_data"
    }
   ],
   "source": [
    "plt.plot(wav)\n",
    "plt.plot(nwav)\n",
    "plt.show"
   ]
  },
  {
   "cell_type": "code",
   "execution_count": 99,
   "id": "5316e981-6ca1-497f-9f4d-ac06e3252927",
   "metadata": {},
   "outputs": [
    {
     "data": {
      "text/plain": [
       "32000"
      ]
     },
     "execution_count": 99,
     "metadata": {},
     "output_type": "execute_result"
    }
   ],
   "source": [
    "len(nwav)"
   ]
  },
  {
   "cell_type": "code",
   "execution_count": 98,
   "id": "3a25dee5-5cc9-4b89-bddc-8ab7b0bf6831",
   "metadata": {},
   "outputs": [
    {
     "name": "stdout",
     "output_type": "stream",
     "text": [
      "32000\n"
     ]
    }
   ],
   "source": [
    "print(8000*4)"
   ]
  },
  {
   "cell_type": "code",
   "execution_count": null,
   "id": "f93d5b4b-ef17-44d7-8cfa-d49046ccbd86",
   "metadata": {},
   "outputs": [],
   "source": [
    "frames = tf.signal.frame(wav, frame_length=frame_length, frame_step=frame_step)\n",
    "fft_magnitude = tf.abs(tf.signal.rfft(frames))"
   ]
  }
 ],
 "metadata": {
  "kernelspec": {
   "display_name": "Python 3 (ipykernel)",
   "language": "python",
   "name": "python3"
  },
  "language_info": {
   "codemirror_mode": {
    "name": "ipython",
    "version": 3
   },
   "file_extension": ".py",
   "mimetype": "text/x-python",
   "name": "python",
   "nbconvert_exporter": "python",
   "pygments_lexer": "ipython3",
   "version": "3.10.13"
  }
 },
 "nbformat": 4,
 "nbformat_minor": 5
}
