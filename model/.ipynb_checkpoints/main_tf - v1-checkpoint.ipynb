{
 "cells": [
  {
   "cell_type": "code",
   "execution_count": 7,
   "id": "47ee38b7-ab9f-427c-96f6-bf1c3174adac",
   "metadata": {
    "scrolled": true
   },
   "outputs": [
    {
     "name": "stdout",
     "output_type": "stream",
     "text": [
      "Requirement already satisfied: matplotlib in c:\\users\\foxir\\miniconda3\\envs\\gunshot_tf\\lib\\site-packages (3.10.0)\n",
      "Requirement already satisfied: contourpy>=1.0.1 in c:\\users\\foxir\\miniconda3\\envs\\gunshot_tf\\lib\\site-packages (from matplotlib) (1.3.1)\n",
      "Requirement already satisfied: cycler>=0.10 in c:\\users\\foxir\\miniconda3\\envs\\gunshot_tf\\lib\\site-packages (from matplotlib) (0.12.1)\n",
      "Requirement already satisfied: fonttools>=4.22.0 in c:\\users\\foxir\\miniconda3\\envs\\gunshot_tf\\lib\\site-packages (from matplotlib) (4.55.3)\n",
      "Requirement already satisfied: kiwisolver>=1.3.1 in c:\\users\\foxir\\miniconda3\\envs\\gunshot_tf\\lib\\site-packages (from matplotlib) (1.4.7)\n",
      "Requirement already satisfied: numpy>=1.23 in c:\\users\\foxir\\miniconda3\\envs\\gunshot_tf\\lib\\site-packages (from matplotlib) (2.2.0)\n",
      "Requirement already satisfied: packaging>=20.0 in c:\\users\\foxir\\miniconda3\\envs\\gunshot_tf\\lib\\site-packages (from matplotlib) (24.2)\n",
      "Requirement already satisfied: pillow>=8 in c:\\users\\foxir\\miniconda3\\envs\\gunshot_tf\\lib\\site-packages (from matplotlib) (11.0.0)\n",
      "Requirement already satisfied: pyparsing>=2.3.1 in c:\\users\\foxir\\miniconda3\\envs\\gunshot_tf\\lib\\site-packages (from matplotlib) (3.2.0)\n",
      "Requirement already satisfied: python-dateutil>=2.7 in c:\\users\\foxir\\miniconda3\\envs\\gunshot_tf\\lib\\site-packages (from matplotlib) (2.9.0.post0)\n",
      "Requirement already satisfied: six>=1.5 in c:\\users\\foxir\\miniconda3\\envs\\gunshot_tf\\lib\\site-packages (from python-dateutil>=2.7->matplotlib) (1.17.0)\n",
      "Requirement already satisfied: tensorflow==2.8.0 in c:\\users\\foxir\\miniconda3\\envs\\gunshot_tf\\lib\\site-packages (2.8.0)\n",
      "Requirement already satisfied: absl-py>=0.4.0 in c:\\users\\foxir\\miniconda3\\envs\\gunshot_tf\\lib\\site-packages (from tensorflow==2.8.0) (2.1.0)\n",
      "Requirement already satisfied: astunparse>=1.6.0 in c:\\users\\foxir\\miniconda3\\envs\\gunshot_tf\\lib\\site-packages (from tensorflow==2.8.0) (1.6.3)\n",
      "Requirement already satisfied: flatbuffers>=1.12 in c:\\users\\foxir\\miniconda3\\envs\\gunshot_tf\\lib\\site-packages (from tensorflow==2.8.0) (24.3.25)\n",
      "Requirement already satisfied: gast>=0.2.1 in c:\\users\\foxir\\miniconda3\\envs\\gunshot_tf\\lib\\site-packages (from tensorflow==2.8.0) (0.6.0)\n",
      "Requirement already satisfied: google-pasta>=0.1.1 in c:\\users\\foxir\\miniconda3\\envs\\gunshot_tf\\lib\\site-packages (from tensorflow==2.8.0) (0.2.0)\n",
      "Requirement already satisfied: h5py>=2.9.0 in c:\\users\\foxir\\miniconda3\\envs\\gunshot_tf\\lib\\site-packages (from tensorflow==2.8.0) (3.12.1)\n",
      "Requirement already satisfied: keras-preprocessing>=1.1.1 in c:\\users\\foxir\\miniconda3\\envs\\gunshot_tf\\lib\\site-packages (from tensorflow==2.8.0) (1.1.2)\n",
      "Requirement already satisfied: libclang>=9.0.1 in c:\\users\\foxir\\miniconda3\\envs\\gunshot_tf\\lib\\site-packages (from tensorflow==2.8.0) (18.1.1)\n",
      "Requirement already satisfied: numpy>=1.20 in c:\\users\\foxir\\miniconda3\\envs\\gunshot_tf\\lib\\site-packages (from tensorflow==2.8.0) (2.2.0)\n",
      "Requirement already satisfied: opt-einsum>=2.3.2 in c:\\users\\foxir\\miniconda3\\envs\\gunshot_tf\\lib\\site-packages (from tensorflow==2.8.0) (3.4.0)\n",
      "Requirement already satisfied: protobuf>=3.9.2 in c:\\users\\foxir\\miniconda3\\envs\\gunshot_tf\\lib\\site-packages (from tensorflow==2.8.0) (5.29.1)\n",
      "Requirement already satisfied: setuptools in c:\\users\\foxir\\miniconda3\\envs\\gunshot_tf\\lib\\site-packages (from tensorflow==2.8.0) (75.6.0)\n",
      "Requirement already satisfied: six>=1.12.0 in c:\\users\\foxir\\miniconda3\\envs\\gunshot_tf\\lib\\site-packages (from tensorflow==2.8.0) (1.17.0)\n",
      "Requirement already satisfied: termcolor>=1.1.0 in c:\\users\\foxir\\miniconda3\\envs\\gunshot_tf\\lib\\site-packages (from tensorflow==2.8.0) (2.5.0)\n",
      "Requirement already satisfied: typing-extensions>=3.6.6 in c:\\users\\foxir\\miniconda3\\envs\\gunshot_tf\\lib\\site-packages (from tensorflow==2.8.0) (4.12.2)\n",
      "Requirement already satisfied: wrapt>=1.11.0 in c:\\users\\foxir\\miniconda3\\envs\\gunshot_tf\\lib\\site-packages (from tensorflow==2.8.0) (1.17.0)\n",
      "Requirement already satisfied: tensorboard<2.9,>=2.8 in c:\\users\\foxir\\miniconda3\\envs\\gunshot_tf\\lib\\site-packages (from tensorflow==2.8.0) (2.8.0)\n",
      "Requirement already satisfied: tf-estimator-nightly==2.8.0.dev2021122109 in c:\\users\\foxir\\miniconda3\\envs\\gunshot_tf\\lib\\site-packages (from tensorflow==2.8.0) (2.8.0.dev2021122109)\n",
      "Requirement already satisfied: keras<2.9,>=2.8.0rc0 in c:\\users\\foxir\\miniconda3\\envs\\gunshot_tf\\lib\\site-packages (from tensorflow==2.8.0) (2.8.0)\n",
      "Requirement already satisfied: tensorflow-io-gcs-filesystem>=0.23.1 in c:\\users\\foxir\\miniconda3\\envs\\gunshot_tf\\lib\\site-packages (from tensorflow==2.8.0) (0.31.0)\n",
      "Requirement already satisfied: grpcio<2.0,>=1.24.3 in c:\\users\\foxir\\miniconda3\\envs\\gunshot_tf\\lib\\site-packages (from tensorflow==2.8.0) (1.68.1)\n",
      "Requirement already satisfied: wheel<1.0,>=0.23.0 in c:\\users\\foxir\\miniconda3\\envs\\gunshot_tf\\lib\\site-packages (from astunparse>=1.6.0->tensorflow==2.8.0) (0.45.1)\n",
      "Requirement already satisfied: google-auth<3,>=1.6.3 in c:\\users\\foxir\\miniconda3\\envs\\gunshot_tf\\lib\\site-packages (from tensorboard<2.9,>=2.8->tensorflow==2.8.0) (2.37.0)\n",
      "Requirement already satisfied: google-auth-oauthlib<0.5,>=0.4.1 in c:\\users\\foxir\\miniconda3\\envs\\gunshot_tf\\lib\\site-packages (from tensorboard<2.9,>=2.8->tensorflow==2.8.0) (0.4.6)\n",
      "Requirement already satisfied: markdown>=2.6.8 in c:\\users\\foxir\\miniconda3\\envs\\gunshot_tf\\lib\\site-packages (from tensorboard<2.9,>=2.8->tensorflow==2.8.0) (3.7)\n",
      "Requirement already satisfied: requests<3,>=2.21.0 in c:\\users\\foxir\\miniconda3\\envs\\gunshot_tf\\lib\\site-packages (from tensorboard<2.9,>=2.8->tensorflow==2.8.0) (2.32.3)\n",
      "Requirement already satisfied: tensorboard-data-server<0.7.0,>=0.6.0 in c:\\users\\foxir\\miniconda3\\envs\\gunshot_tf\\lib\\site-packages (from tensorboard<2.9,>=2.8->tensorflow==2.8.0) (0.6.1)\n",
      "Requirement already satisfied: tensorboard-plugin-wit>=1.6.0 in c:\\users\\foxir\\miniconda3\\envs\\gunshot_tf\\lib\\site-packages (from tensorboard<2.9,>=2.8->tensorflow==2.8.0) (1.8.1)\n",
      "Requirement already satisfied: werkzeug>=0.11.15 in c:\\users\\foxir\\miniconda3\\envs\\gunshot_tf\\lib\\site-packages (from tensorboard<2.9,>=2.8->tensorflow==2.8.0) (3.1.3)\n",
      "Requirement already satisfied: cachetools<6.0,>=2.0.0 in c:\\users\\foxir\\miniconda3\\envs\\gunshot_tf\\lib\\site-packages (from google-auth<3,>=1.6.3->tensorboard<2.9,>=2.8->tensorflow==2.8.0) (5.5.0)\n",
      "Requirement already satisfied: pyasn1-modules>=0.2.1 in c:\\users\\foxir\\miniconda3\\envs\\gunshot_tf\\lib\\site-packages (from google-auth<3,>=1.6.3->tensorboard<2.9,>=2.8->tensorflow==2.8.0) (0.4.1)\n",
      "Requirement already satisfied: rsa<5,>=3.1.4 in c:\\users\\foxir\\miniconda3\\envs\\gunshot_tf\\lib\\site-packages (from google-auth<3,>=1.6.3->tensorboard<2.9,>=2.8->tensorflow==2.8.0) (4.9)\n",
      "Requirement already satisfied: requests-oauthlib>=0.7.0 in c:\\users\\foxir\\miniconda3\\envs\\gunshot_tf\\lib\\site-packages (from google-auth-oauthlib<0.5,>=0.4.1->tensorboard<2.9,>=2.8->tensorflow==2.8.0) (2.0.0)\n",
      "Requirement already satisfied: charset-normalizer<4,>=2 in c:\\users\\foxir\\miniconda3\\envs\\gunshot_tf\\lib\\site-packages (from requests<3,>=2.21.0->tensorboard<2.9,>=2.8->tensorflow==2.8.0) (3.4.0)\n",
      "Requirement already satisfied: idna<4,>=2.5 in c:\\users\\foxir\\miniconda3\\envs\\gunshot_tf\\lib\\site-packages (from requests<3,>=2.21.0->tensorboard<2.9,>=2.8->tensorflow==2.8.0) (3.10)\n",
      "Requirement already satisfied: urllib3<3,>=1.21.1 in c:\\users\\foxir\\miniconda3\\envs\\gunshot_tf\\lib\\site-packages (from requests<3,>=2.21.0->tensorboard<2.9,>=2.8->tensorflow==2.8.0) (2.2.3)\n",
      "Requirement already satisfied: certifi>=2017.4.17 in c:\\users\\foxir\\miniconda3\\envs\\gunshot_tf\\lib\\site-packages (from requests<3,>=2.21.0->tensorboard<2.9,>=2.8->tensorflow==2.8.0) (2024.12.14)\n",
      "Requirement already satisfied: MarkupSafe>=2.1.1 in c:\\users\\foxir\\miniconda3\\envs\\gunshot_tf\\lib\\site-packages (from werkzeug>=0.11.15->tensorboard<2.9,>=2.8->tensorflow==2.8.0) (3.0.2)\n",
      "Requirement already satisfied: pyasn1<0.7.0,>=0.4.6 in c:\\users\\foxir\\miniconda3\\envs\\gunshot_tf\\lib\\site-packages (from pyasn1-modules>=0.2.1->google-auth<3,>=1.6.3->tensorboard<2.9,>=2.8->tensorflow==2.8.0) (0.6.1)\n",
      "Requirement already satisfied: oauthlib>=3.0.0 in c:\\users\\foxir\\miniconda3\\envs\\gunshot_tf\\lib\\site-packages (from requests-oauthlib>=0.7.0->google-auth-oauthlib<0.5,>=0.4.1->tensorboard<2.9,>=2.8->tensorflow==2.8.0) (3.2.2)\n",
      "Collecting tensorflow-io==0.25.0\n",
      "  Using cached tensorflow_io-0.25.0-cp310-cp310-win_amd64.whl.metadata (14 kB)\n",
      "Collecting tensorflow-io-gcs-filesystem==0.25.0 (from tensorflow-io==0.25.0)\n",
      "  Using cached tensorflow_io_gcs_filesystem-0.25.0-cp310-cp310-win_amd64.whl.metadata (14 kB)\n",
      "Using cached tensorflow_io-0.25.0-cp310-cp310-win_amd64.whl (21.8 MB)\n",
      "Using cached tensorflow_io_gcs_filesystem-0.25.0-cp310-cp310-win_amd64.whl (1.5 MB)\n",
      "Installing collected packages: tensorflow-io-gcs-filesystem, tensorflow-io\n",
      "  Attempting uninstall: tensorflow-io-gcs-filesystem\n",
      "    Found existing installation: tensorflow-io-gcs-filesystem 0.31.0\n",
      "    Uninstalling tensorflow-io-gcs-filesystem-0.31.0:\n",
      "      Successfully uninstalled tensorflow-io-gcs-filesystem-0.31.0\n",
      "Successfully installed tensorflow-io-0.25.0 tensorflow-io-gcs-filesystem-0.25.0\n"
     ]
    }
   ],
   "source": [
    "!pip install matplotlib\n",
    "!pip install tensorflow==2.8.0\n",
    "!pip install tensorflow-io==0.25.0"
   ]
  },
  {
   "cell_type": "code",
   "execution_count": 3,
   "id": "b80c327b-eba4-4af0-bba1-12f0c01a7b35",
   "metadata": {
    "scrolled": true
   },
   "outputs": [
    {
     "name": "stdout",
     "output_type": "stream",
     "text": [
      "Collecting numpy<2\n",
      "  Downloading numpy-1.26.4-cp310-cp310-win_amd64.whl.metadata (61 kB)\n",
      "Downloading numpy-1.26.4-cp310-cp310-win_amd64.whl (15.8 MB)\n",
      "   ---------------------------------------- 0.0/15.8 MB ? eta -:--:--\n",
      "   ----------- ---------------------------- 4.5/15.8 MB 24.4 MB/s eta 0:00:01\n",
      "   --------------- ------------------------ 6.3/15.8 MB 24.1 MB/s eta 0:00:01\n",
      "   ---------------------------- ----------- 11.3/15.8 MB 19.6 MB/s eta 0:00:01\n",
      "   ---------------------------------------  15.7/15.8 MB 20.6 MB/s eta 0:00:01\n",
      "   ---------------------------------------- 15.8/15.8 MB 19.1 MB/s eta 0:00:00\n",
      "Installing collected packages: numpy\n",
      "  Attempting uninstall: numpy\n",
      "    Found existing installation: numpy 2.2.0\n",
      "    Uninstalling numpy-2.2.0:\n",
      "      Successfully uninstalled numpy-2.2.0\n",
      "Successfully installed numpy-1.26.4\n"
     ]
    },
    {
     "name": "stderr",
     "output_type": "stream",
     "text": [
      "  WARNING: Failed to remove contents in a temporary directory 'C:\\Users\\foxir\\miniconda3\\envs\\gunshot_tf\\Lib\\site-packages\\~umpy.libs'.\n",
      "  You can safely remove it manually.\n",
      "  WARNING: Failed to remove contents in a temporary directory 'C:\\Users\\foxir\\miniconda3\\envs\\gunshot_tf\\Lib\\site-packages\\~umpy'.\n",
      "  You can safely remove it manually.\n"
     ]
    }
   ],
   "source": [
    "!pip install \"numpy<2\""
   ]
  },
  {
   "cell_type": "code",
   "execution_count": 1,
   "id": "86806dae-63ee-4652-8081-a422525afe7e",
   "metadata": {
    "scrolled": true
   },
   "outputs": [
    {
     "name": "stdout",
     "output_type": "stream",
     "text": [
      "# packages in environment at C:\\Users\\foxir\\miniconda3\\envs\\gunshot_tf:\n",
      "#\n",
      "# Name                    Version                   Build  Channel\n",
      "absl-py                   2.1.0                    pypi_0    pypi\n",
      "asttokens                 3.0.0                    pypi_0    pypi\n",
      "astunparse                1.6.3                    pypi_0    pypi\n",
      "bzip2                     1.0.8                h2466b09_7    conda-forge\n",
      "ca-certificates           2024.12.14           h56e8100_0    conda-forge\n",
      "cachetools                5.5.0                    pypi_0    pypi\n",
      "certifi                   2024.12.14               pypi_0    pypi\n",
      "charset-normalizer        3.4.0                    pypi_0    pypi\n",
      "colorama                  0.4.6                    pypi_0    pypi\n",
      "comm                      0.2.2                    pypi_0    pypi\n",
      "contourpy                 1.3.1                    pypi_0    pypi\n",
      "cudatoolkit               11.2.2              h7d7167e_13    conda-forge\n",
      "cudnn                     8.1.0.77             h3e0f4f4_0    conda-forge\n",
      "cycler                    0.12.1                   pypi_0    pypi\n",
      "debugpy                   1.8.11                   pypi_0    pypi\n",
      "decorator                 5.1.1                    pypi_0    pypi\n",
      "exceptiongroup            1.2.2                    pypi_0    pypi\n",
      "executing                 2.1.0                    pypi_0    pypi\n",
      "flatbuffers               24.3.25                  pypi_0    pypi\n",
      "fonttools                 4.55.3                   pypi_0    pypi\n",
      "gast                      0.6.0                    pypi_0    pypi\n",
      "google-auth               2.37.0                   pypi_0    pypi\n",
      "google-auth-oauthlib      0.4.6                    pypi_0    pypi\n",
      "google-pasta              0.2.0                    pypi_0    pypi\n",
      "grpcio                    1.68.1                   pypi_0    pypi\n",
      "h5py                      3.12.1                   pypi_0    pypi\n",
      "idna                      3.10                     pypi_0    pypi\n",
      "ipykernel                 6.29.5                   pypi_0    pypi\n",
      "ipython                   8.30.0                   pypi_0    pypi\n",
      "jedi                      0.19.2                   pypi_0    pypi\n",
      "jupyter-client            8.6.3                    pypi_0    pypi\n",
      "jupyter-core              5.7.2                    pypi_0    pypi\n",
      "keras                     2.8.0                    pypi_0    pypi\n",
      "keras-preprocessing       1.1.2                    pypi_0    pypi\n",
      "kiwisolver                1.4.7                    pypi_0    pypi\n",
      "libclang                  18.1.1                   pypi_0    pypi\n",
      "libffi                    3.4.2                h8ffe710_5    conda-forge\n",
      "liblzma                   5.6.3                h2466b09_1    conda-forge\n",
      "liblzma-devel             5.6.3                h2466b09_1    conda-forge\n",
      "libsqlite                 3.47.2               h67fdade_0    conda-forge\n",
      "libzlib                   1.3.1                h2466b09_2    conda-forge\n",
      "markdown                  3.7                      pypi_0    pypi\n",
      "markupsafe                3.0.2                    pypi_0    pypi\n",
      "matplotlib                3.10.0                   pypi_0    pypi\n",
      "matplotlib-inline         0.1.7                    pypi_0    pypi\n",
      "nest-asyncio              1.6.0                    pypi_0    pypi\n",
      "numpy                     1.26.4                   pypi_0    pypi\n",
      "oauthlib                  3.2.2                    pypi_0    pypi\n",
      "openssl                   3.4.0                h2466b09_0    conda-forge\n",
      "opt-einsum                3.4.0                    pypi_0    pypi\n",
      "packaging                 24.2                     pypi_0    pypi\n",
      "parso                     0.8.4                    pypi_0    pypi\n",
      "pillow                    11.0.0                   pypi_0    pypi\n",
      "pip                       24.3.1             pyh8b19718_0    conda-forge\n",
      "platformdirs              4.3.6                    pypi_0    pypi\n",
      "prompt-toolkit            3.0.48                   pypi_0    pypi\n",
      "protobuf                  3.20.0                   pypi_0    pypi\n",
      "psutil                    6.1.0                    pypi_0    pypi\n",
      "pure-eval                 0.2.3                    pypi_0    pypi\n",
      "pyasn1                    0.6.1                    pypi_0    pypi\n",
      "pyasn1-modules            0.4.1                    pypi_0    pypi\n",
      "pygments                  2.18.0                   pypi_0    pypi\n",
      "pyparsing                 3.2.0                    pypi_0    pypi\n",
      "python                    3.10.2          hcf16a7b_4_cpython    conda-forge\n",
      "python-dateutil           2.9.0.post0              pypi_0    pypi\n",
      "pywin32                   308                      pypi_0    pypi\n",
      "pyzmq                     26.2.0                   pypi_0    pypi\n",
      "requests                  2.32.3                   pypi_0    pypi\n",
      "requests-oauthlib         2.0.0                    pypi_0    pypi\n",
      "rsa                       4.9                      pypi_0    pypi\n",
      "setuptools                75.6.0             pyhff2d567_1    conda-forge\n",
      "six                       1.17.0                   pypi_0    pypi\n",
      "sqlite                    3.47.2               h2466b09_0    conda-forge\n",
      "stack-data                0.6.3                    pypi_0    pypi\n",
      "tensorboard               2.8.0                    pypi_0    pypi\n",
      "tensorboard-data-server   0.6.1                    pypi_0    pypi\n",
      "tensorboard-plugin-wit    1.8.1                    pypi_0    pypi\n",
      "tensorflow                2.8.0                    pypi_0    pypi\n",
      "tensorflow-io             0.25.0                   pypi_0    pypi\n",
      "tensorflow-io-gcs-filesystem 0.25.0                   pypi_0    pypi\n",
      "termcolor                 2.5.0                    pypi_0    pypi\n",
      "tf-estimator-nightly      2.8.0.dev2021122109          pypi_0    pypi\n",
      "tk                        8.6.13               h5226925_1    conda-forge\n",
      "tornado                   6.4.2                    pypi_0    pypi\n",
      "traitlets                 5.14.3                   pypi_0    pypi\n",
      "typing-extensions         4.12.2                   pypi_0    pypi\n",
      "tzdata                    2024b                hc8b5060_0    conda-forge\n",
      "ucrt                      10.0.22621.0         h57928b3_1    conda-forge\n",
      "urllib3                   2.2.3                    pypi_0    pypi\n",
      "vc                        14.3                ha32ba9b_23    conda-forge\n",
      "vc14_runtime              14.42.34433         he29a5d6_23    conda-forge\n",
      "vs2015_runtime            14.42.34433         hdffcdeb_23    conda-forge\n",
      "wcwidth                   0.2.13                   pypi_0    pypi\n",
      "werkzeug                  3.1.3                    pypi_0    pypi\n",
      "wheel                     0.45.1             pyhd8ed1ab_1    conda-forge\n",
      "wrapt                     1.17.0                   pypi_0    pypi\n",
      "xz                        5.6.3                h208afaa_1    conda-forge\n",
      "xz-tools                  5.6.3                h2466b09_1    conda-forge\n"
     ]
    }
   ],
   "source": [
    "!conda list"
   ]
  },
  {
   "cell_type": "code",
   "execution_count": 4,
   "id": "3df6853a-eff4-4107-9f76-8736c2542e54",
   "metadata": {},
   "outputs": [],
   "source": [
    "import os\n",
    "from matplotlib import pyplot as plt\n",
    "import tensorflow as tf\n",
    "import tensorflow_io as tfio\n",
    "import numpy as np"
   ]
  },
  {
   "cell_type": "code",
   "execution_count": 5,
   "id": "49604198-9e3e-4974-86af-e26b83cd9fb4",
   "metadata": {},
   "outputs": [],
   "source": [
    "from tensorflow.keras.models import Sequential\n",
    "from tensorflow.keras.layers import Conv2D, Dense, Flatten, Dropout\n",
    "from tensorflow.keras.callbacks import ModelCheckpoint"
   ]
  },
  {
   "cell_type": "code",
   "execution_count": 11,
   "id": "a2486c28-c1f4-4824-9a15-aed18656746f",
   "metadata": {},
   "outputs": [
    {
     "name": "stdout",
     "output_type": "stream",
     "text": [
      "[PhysicalDevice(name='/physical_device:GPU:0', device_type='GPU')]\n"
     ]
    }
   ],
   "source": [
    "!python -c \"import tensorflow as tf; print(tf.config.list_physical_devices('GPU'))\""
   ]
  },
  {
   "cell_type": "code",
   "execution_count": 9,
   "id": "5497440f-aad0-4da4-b77e-641da44cbb79",
   "metadata": {},
   "outputs": [],
   "source": [
    "data = os.path.join('belize-data')\n",
    "train_dir = os.path.join('belize-data', 'Training data')\n",
    "val_dir = os.path.join('belize-data', 'Validation data')\n",
    "val_NEG = os.path.join('belize-data', 'Validation data', 'Background')\n",
    "val_POS = os.path.join('belize-data', 'Validation data', 'Gunshot')\n",
    "train_NEG = os.path.join('belize-data', 'Training data', 'Background')\n",
    "train_POS = os.path.join('belize-data', 'Training data', 'Gunshot')\n",
    "model_save_dir = os.path.join('model','model_exports')\n",
    "outputs_dir = os.path.join('outputs')"
   ]
  },
  {
   "cell_type": "code",
   "execution_count": 10,
   "id": "f7401c11-d567-4061-a25a-c9aad54c0004",
   "metadata": {},
   "outputs": [],
   "source": [
    "pos = tf.data.Dataset.list_files(train_POS+'/*.wav')\n",
    "neg = tf.data.Dataset.list_files(train_NEG+'/*.wav')\n",
    "\n",
    "positives = tf.data.Dataset.zip((pos, tf.data.Dataset.from_tensor_slices(tf.ones(len(pos)))))\n",
    "negatives = tf.data.Dataset.zip((neg, tf.data.Dataset.from_tensor_slices(tf.zeros(len(neg)))))\n",
    "training_data = positives.concatenate(negatives)"
   ]
  },
  {
   "cell_type": "code",
   "execution_count": 13,
   "id": "036244fd-8d6e-4d7a-8988-492a62aa98dc",
   "metadata": {},
   "outputs": [],
   "source": [
    "test_pos = tf.data.Dataset.list_files(val_POS+'/*.wav')\n",
    "test_neg = tf.data.Dataset.list_files(val_NEG+'/*.wav')\n",
    "\n",
    "test_positives = tf.data.Dataset.zip((test_pos, tf.data.Dataset.from_tensor_slices(tf.ones(len(test_pos)))))\n",
    "test_negatives = tf.data.Dataset.zip((test_neg, tf.data.Dataset.from_tensor_slices(tf.ones(len(test_neg)))))\n",
    "testing_data = positives.concatenate(negatives)"
   ]
  },
  {
   "cell_type": "code",
   "execution_count": 14,
   "id": "61fce04e-7990-4eb3-b8f7-d1a62b668bac",
   "metadata": {},
   "outputs": [
    {
     "ename": "NameError",
     "evalue": "name 'labels' is not defined",
     "output_type": "error",
     "traceback": [
      "\u001b[1;31m---------------------------------------------------------------------------\u001b[0m",
      "\u001b[1;31mNameError\u001b[0m                                 Traceback (most recent call last)",
      "Cell \u001b[1;32mIn[14], line 2\u001b[0m\n\u001b[0;32m      1\u001b[0m data \u001b[38;5;241m=\u001b[39m training_data\n\u001b[1;32m----> 2\u001b[0m \u001b[38;5;28mprint\u001b[39m(\u001b[38;5;124mf\u001b[39m\u001b[38;5;124m\"\u001b[39m\u001b[38;5;124mLabel shape1: \u001b[39m\u001b[38;5;132;01m{\u001b[39;00mlabels\u001b[38;5;241m.\u001b[39mshape\u001b[38;5;132;01m}\u001b[39;00m\u001b[38;5;124m\"\u001b[39m)\n\u001b[0;32m      3\u001b[0m data \u001b[38;5;241m=\u001b[39m data\u001b[38;5;241m.\u001b[39mmap(preprocess_mel)\n\u001b[0;32m      4\u001b[0m \u001b[38;5;28mprint\u001b[39m(\u001b[38;5;124mf\u001b[39m\u001b[38;5;124m\"\u001b[39m\u001b[38;5;124mLabel shape2: \u001b[39m\u001b[38;5;132;01m{\u001b[39;00mlabels\u001b[38;5;241m.\u001b[39mshape\u001b[38;5;132;01m}\u001b[39;00m\u001b[38;5;124m\"\u001b[39m)\n",
      "\u001b[1;31mNameError\u001b[0m: name 'labels' is not defined"
     ]
    }
   ],
   "source": [
    "data = training_data\n",
    "print(f\"Label shape1: {labels.shape}\")\n",
    "data = data.map(preprocess_mel)\n",
    "print(f\"Label shape2: {labels.shape}\")\n",
    "data = data.cache()\n",
    "print(f\"Label shape3: {labels.shape}\")\n",
    "data = data.shuffle(buffer_size=1000)\n",
    "print(f\"Label shape4: {labels.shape}\")\n",
    "data = data.batch(16)\n",
    "print(f\"Label shape5: {labels.shape}\")\n",
    "data = data.prefetch(8)\n",
    "print(f\"Label shape6: {labels.shape}\")"
   ]
  },
  {
   "cell_type": "code",
   "execution_count": null,
   "id": "5648e713-6b41-487e-a764-b990f29a533e",
   "metadata": {},
   "outputs": [],
   "source": [
    "testing_data = testing_data.map(preprocess_mel)\n",
    "testing_data = testing_data.cache()\n",
    "print(f\"Label shape7: {labels.shape}\")"
   ]
  },
  {
   "cell_type": "code",
   "execution_count": null,
   "id": "4eb37d07-8a65-4ab7-86cc-6ce37f460fca",
   "metadata": {},
   "outputs": [],
   "source": [
    "train = data.take(36)\n",
    "test = data.skip(36).take(15)\n",
    "print(f\"Label shape1: {labels.shape}\")\n",
    "samples, labels = train.as_numpy_iterator().next()\n",
    "print(f\"Label shape2: {labels.shape}\")"
   ]
  },
  {
   "cell_type": "code",
   "execution_count": null,
   "id": "10203140-ee79-4102-a559-5b7e09af3012",
   "metadata": {},
   "outputs": [],
   "source": [
    "labels = labels.reshape(-1, 1)"
   ]
  },
  {
   "cell_type": "code",
   "execution_count": null,
   "id": "89bf6325-804f-471a-9fa0-4d0f27b58a83",
   "metadata": {},
   "outputs": [],
   "source": [
    "print(f\"Label shape3: {labels.shape}\")"
   ]
  },
  {
   "cell_type": "code",
   "execution_count": 12,
   "id": "41c43855-2e5d-40e5-bdf3-727ea2d3c276",
   "metadata": {},
   "outputs": [],
   "source": [
    "def load_wav_8k_mono(filename):\n",
    "    try:\n",
    "        file_contents = tf.io.read_file(filename)\n",
    "        wav, sample_rate = tf.audio.decode_wav(file_contents, desired_channels=1)\n",
    "        sample_rate = tf.cast(sample_rate, dtype=tf.int64)\n",
    "        if sample_rate != 8000:\n",
    "            wav = tfio.audio.resample(wav, rate_in=sample_rate, rate_out=8000)\n",
    "        wav = tf.squeeze(wav, axis=-1)\n",
    "    except Exception as e:\n",
    "        print(f\"Invalid file: {file_path} - {e}\")\n",
    "    return wav"
   ]
  },
  {
   "cell_type": "code",
   "execution_count": null,
   "id": "87fd7a6a-034a-4eda-90f1-0f46adedfe03",
   "metadata": {},
   "outputs": [],
   "source": [
    "sample_rate = 8000\n",
    "mel_spec_length = 32000\n",
    "frame_length = 256\n",
    "frame_step = 128\n",
    "mel_bins = 64\n",
    "upper_edge = 4000\n",
    "lower_edge = 0"
   ]
  },
  {
   "cell_type": "code",
   "execution_count": null,
   "id": "8bd81f73-8693-432e-a6ad-f1535cf3984c",
   "metadata": {},
   "outputs": [],
   "source": [
    "def preprocess_mel(file_path, label):\n",
    "    # load wav and make sure length is proper\n",
    "    try:\n",
    "        wav = load_wav_8k_mono(file_path)\n",
    "    except Exception as e:\n",
    "        print(f\"Failed to load wav file at {file_path} - {e}\")\n",
    "    if len(wav) > 32000:\n",
    "        wav = wav[:mel_spec_length]\n",
    "    if len(wav) < 32000:\n",
    "        try:\n",
    "            zero_padding = tf.zeros([mel_spec_length] - tf.shape(wav), dtype=tf.float32)\n",
    "            wav = tf.concat([zero_padding, wav], 0)\n",
    "        except Exception as e:\n",
    "            print(f\"Failed to pad wav file at {file_path} - {e}\")\n",
    "\n",
    "    # create the spectrogram\n",
    "    print(\"Wav Shape:\", wav.shape)\n",
    "    spectrogram = tf.signal.stft(wav, frame_length, frame_step, window_fn=tf.signal.hann_window)\n",
    "    print(\"STFT Shape1:\", spectrogram.shape)\n",
    "    spectrogram = tf.abs(spectrogram)\n",
    "    print(\"STFT Shape2:\", spectrogram.shape)\n",
    "\n",
    "    # create the mel filterbank\n",
    "    spec_bins = frame_length // 2 + 1  # Derived from frame length\n",
    "    mel_filterbank = tf.signal.linear_to_mel_weight_matrix(\n",
    "        mel_bins,\n",
    "        spec_bins,\n",
    "        sample_rate,\n",
    "        lower_edge,\n",
    "        upper_edge,\n",
    "    )\n",
    "    print(\"Mel Filterbank Shape:\", mel_filterbank.shape)\n",
    "    \n",
    "    # create the mel spectrogram\n",
    "    mel_spectrogram = tf.matmul(spectrogram, mel_filterbank)\n",
    "    print(\"Mel Spectrogram Shape1:\", mel_spectrogram.shape)\n",
    "\n",
    "    # add a dimension\n",
    "    mel_spectrogram = tf.expand_dims(mel_spectrogram, axis=2)\n",
    "    print(\"Mel Spectrogram Shape2:\", mel_spectrogram.shape)\n",
    "\n",
    "    return mel_spectrogram, label"
   ]
  },
  {
   "cell_type": "code",
   "execution_count": null,
   "id": "32b57622-50aa-484f-ae42-399981a0eb50",
   "metadata": {},
   "outputs": [],
   "source": [
    "def preprocess(file_path, label):\n",
    "    # load wav and make sure length is proper\n",
    "    wav = load_wav_8k_mono(file_path)\n",
    "    # wav = wav[:mel_spec_length]\n",
    "    # zero_padding = tf.zeros([mel_spec_length] - tf.shape(wav), dtype=tf.float32)\n",
    "    # wav = tf.concat([zero_padding, wav],0)\n",
    "    # create the spectrogram\n",
    "    spectrogram = tf.signal.stft(wav, frame_length, frame_step)\n",
    "    spectrogram = tf.abs(spectrogram)\n",
    "    # add a dimension\n",
    "    spectrogram = tf.expand_dims(spectrogram, axis=2)\n",
    "    return spectrogram, label"
   ]
  }
 ],
 "metadata": {
  "kernelspec": {
   "display_name": "gunshot_tf",
   "language": "python",
   "name": "gunshot_tf"
  },
  "language_info": {
   "codemirror_mode": {
    "name": "ipython",
    "version": 3
   },
   "file_extension": ".py",
   "mimetype": "text/x-python",
   "name": "python",
   "nbconvert_exporter": "python",
   "pygments_lexer": "ipython3",
   "version": "3.10.2"
  }
 },
 "nbformat": 4,
 "nbformat_minor": 5
}
