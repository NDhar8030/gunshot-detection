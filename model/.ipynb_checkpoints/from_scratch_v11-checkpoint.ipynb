{
 "cells": [
  {
   "cell_type": "code",
   "execution_count": 1,
   "id": "a7ec77b7-1d66-4e3f-abb9-bebbba076d26",
   "metadata": {},
   "outputs": [],
   "source": [
    "import os\n",
    "from matplotlib import pyplot as plt\n",
    "import tensorflow as tf\n",
    "import tensorflow_io as tfio\n",
    "import numpy as np\n",
    "import pandas as pd\n",
    "import csv\n",
    "import glob\n",
    "import math\n",
    "import random"
   ]
  },
  {
   "cell_type": "code",
   "execution_count": 2,
   "id": "04933cc0-b3b4-4134-8b46-382a51964d58",
   "metadata": {},
   "outputs": [],
   "source": [
    "from audiomentations import Compose, Gain, AddGaussianNoise, TimeMask, AddShortNoises, PolarityInversion, AirAbsorption, RepeatPart, Shift, AdjustDuration"
   ]
  },
  {
   "cell_type": "code",
   "execution_count": 3,
   "id": "a1165f83-3ebe-4b90-a48f-d27183dbd947",
   "metadata": {},
   "outputs": [
    {
     "name": "stdout",
     "output_type": "stream",
     "text": [
      "[PhysicalDevice(name='/physical_device:GPU:0', device_type='GPU')]\n"
     ]
    }
   ],
   "source": [
    "!python -c \"import tensorflow as tf; print(tf.config.list_physical_devices('GPU'))\""
   ]
  },
  {
   "cell_type": "code",
   "execution_count": 5,
   "id": "b4a66055-4796-44d3-b2e2-7cdae05eaf0b",
   "metadata": {},
   "outputs": [],
   "source": [
    "def load_wav_8k_mono(filename):\n",
    "    try:\n",
    "        file_contents = tf.io.read_file(filename)\n",
    "        wav, sample_rate = tf.audio.decode_wav(file_contents, desired_channels=1)\n",
    "        sample_rate = tf.cast(sample_rate, dtype=tf.int64)\n",
    "        if sample_rate != 8000:\n",
    "            wav = tfio.audio.resample(wav, rate_in=sample_rate, rate_out=8000)\n",
    "        wav = tf.squeeze(wav, axis=-1)\n",
    "    except Exception as e:\n",
    "        print(f\"Invalid file: {filename} - {e}\")\n",
    "    return wav"
   ]
  },
  {
   "cell_type": "code",
   "execution_count": 6,
   "id": "b6d7569f-c0ee-4401-bef0-7e8fda3d9fe0",
   "metadata": {},
   "outputs": [],
   "source": [
    "sample_rate = 8000\n",
    "mel_spec_length = 32000\n",
    "frame_length = 256\n",
    "frame_step = 128\n",
    "mel_bins = 64\n",
    "upper_edge = 4000\n",
    "lower_edge = 0"
   ]
  },
  {
   "cell_type": "code",
   "execution_count": 7,
   "id": "818c9ca1-4e69-4bdb-a80c-7eb0dccdee9a",
   "metadata": {},
   "outputs": [],
   "source": [
    "def preprocess_mel(file_path, label):\n",
    "    # load wav and make sure length is proper\n",
    "    if isinstance(file_path, str):\n",
    "        try:\n",
    "            wav, label = load_wav_8k_mono(file_path)\n",
    "        except Exception as e:\n",
    "            print(f\"Failed to load wav file at {file_path} - {e}\")\n",
    "    else:\n",
    "        wav = file_path\n",
    "\n",
    "    if len(wav) > 32000:\n",
    "        wav = wav[:mel_spec_length]\n",
    "    if len(wav) < 32000:\n",
    "        try:\n",
    "            zero_padding = tf.zeros([mel_spec_length] - tf.shape(wav), dtype=tf.float32)\n",
    "            wav = tf.concat([zero_padding, wav], 0)\n",
    "        except Exception as e:\n",
    "            print(f\"Failed to pad wav file at {file_path} - {e}\")\n",
    "    \n",
    "    # create the spectrogram\n",
    "    print(\"Wav Shape:\", wav.shape)\n",
    "    spectrogram = tf.signal.stft(wav, frame_length, frame_step, window_fn=tf.signal.hann_window)\n",
    "    print(\"STFT Shape1:\", spectrogram.shape)\n",
    "    spectrogram = tf.abs(spectrogram)\n",
    "    print(\"STFT Shape2:\", spectrogram.shape)\n",
    "\n",
    "    # create the mel filterbank\n",
    "    spec_bins = frame_length // 2 + 1  # Derived from frame length\n",
    "    mel_filterbank = tf.signal.linear_to_mel_weight_matrix(\n",
    "        mel_bins,\n",
    "        spec_bins,\n",
    "        sample_rate,\n",
    "        lower_edge,\n",
    "        upper_edge,\n",
    "    )\n",
    "    print(\"Mel Filterbank Shape:\", mel_filterbank.shape)\n",
    "    \n",
    "    # create the mel spectrogram\n",
    "    mel_spectrogram = tf.matmul(spectrogram, mel_filterbank)\n",
    "    print(\"Mel Spectrogram Shape1:\", mel_spectrogram.shape)\n",
    "\n",
    "    # add a dimension\n",
    "    mel_spectrogram = tf.expand_dims(mel_spectrogram, axis=2)\n",
    "    print(\"Mel Spectrogram Shape2:\", mel_spectrogram.shape)\n",
    "\n",
    "    return mel_spectrogram, label"
   ]
  },
  {
   "cell_type": "code",
   "execution_count": 69,
   "id": "e57fcd92-859b-4ee3-bb70-1fd94f54fc53",
   "metadata": {},
   "outputs": [],
   "source": [
    "augment_pos = Compose([\n",
    "    AddGaussianNoise(min_amplitude=0.001, max_amplitude=0.015, p=1.0),\n",
    "    TimeMask(min_band_part=0.05, max_band_part=0.08, p=1.0),\n",
    "    AddShortNoises(sounds_path=train_NEG,\n",
    "                   min_snr_db=3.0, max_snr_db=30.0,\n",
    "                   noise_rms=\"relative_to_whole_input\",\n",
    "                   min_time_between_sounds=2.0,\n",
    "                   max_time_between_sounds=8.0,\n",
    "                   noise_transform=PolarityInversion(),\n",
    "                   p=1.0\n",
    "                  ),\n",
    "])"
   ]
  },
  {
   "cell_type": "code",
   "execution_count": 70,
   "id": "bd38ce26-1c12-4fc3-91c8-d7a19ed0d218",
   "metadata": {},
   "outputs": [],
   "source": [
    "augment_neg = Compose([\n",
    "    AddGaussianNoise(min_amplitude=0.001, max_amplitude=0.015, p=1.0),\n",
    "    Gain(min_gain_db=-6.0, max_gain_db=6.0, p=0.5),\n",
    "    TimeMask(min_band_part=0.05, max_band_part=0.08, p=1.0),\n",
    "    AddShortNoises(sounds_path=train_NEG,\n",
    "                   min_snr_db=3.0, max_snr_db=30.0,\n",
    "                   noise_rms=\"relative_to_whole_input\",\n",
    "                   min_time_between_sounds=2.0,\n",
    "                   max_time_between_sounds=8.0,\n",
    "                   noise_transform=PolarityInversion(),\n",
    "                   p=1.0\n",
    "                  ),\n",
    "])"
   ]
  },
  {
   "cell_type": "code",
   "execution_count": 10,
   "id": "d3f6e9b8-6e35-45b4-9178-0bccefc28edf",
   "metadata": {},
   "outputs": [],
   "source": [
    "augment_val = Compose([\n",
    "    AddGaussianNoise(min_amplitude=0.001, max_amplitude=0.015, p=0.0),\n",
    "])"
   ]
  },
  {
   "cell_type": "code",
   "execution_count": 11,
   "id": "23b3bd48-a544-42e9-af09-19e3bbb6aeb4",
   "metadata": {},
   "outputs": [],
   "source": [
    "def augment_pos_wav(wav_tensor):\n",
    "    # wav_numpy = wav_tensor.numpy()\n",
    "    augmented_wav = augment_pos(samples=wav_tensor, sample_rate=8000)\n",
    "    augmented_wav = tf.convert_to_tensor(augmented_wav, dtype=tf.float32)\n",
    "    return augmented_wav"
   ]
  },
  {
   "cell_type": "code",
   "execution_count": 12,
   "id": "955c7846-8bab-45b6-9503-d557b8ed7a46",
   "metadata": {},
   "outputs": [],
   "source": [
    "def augment_neg_wav(wav_tensor):\n",
    "    # wav_numpy = wav_tensor.numpy()\n",
    "    augmented_wav = augment_neg(samples=wav_tensor, sample_rate=8000)\n",
    "    augmented_wav = tf.convert_to_tensor(augmented_wav, dtype=tf.float32)\n",
    "    return augmented_wav"
   ]
  },
  {
   "cell_type": "code",
   "execution_count": 13,
   "id": "61c509e6-d13e-4403-82eb-4372a4da0c43",
   "metadata": {},
   "outputs": [],
   "source": [
    "def augment_val_wav(wav_tensor):\n",
    "    # wav_numpy = wav_tensor.numpy()\n",
    "    augmented_wav = augment_val(samples=wav_tensor, sample_rate=8000)\n",
    "    augmented_wav = tf.convert_to_tensor(augmented_wav, dtype=tf.float32)\n",
    "    return augmented_wav"
   ]
  },
  {
   "cell_type": "code",
   "execution_count": 14,
   "id": "07a285e3-4149-40b1-b003-63c2d447f331",
   "metadata": {},
   "outputs": [],
   "source": [
    "def load_and_augment_pos_wav_tf(filename):\n",
    "    # Loads and augments gunshot wavs with tensorflow, calling respective audiomentation functions\n",
    "    wav = load_wav_8k_mono(filename)\n",
    "    augmented_wav = tf.numpy_function(func=augment_pos_wav, inp=[wav], Tout=tf.float32)\n",
    "    return augmented_wav"
   ]
  },
  {
   "cell_type": "code",
   "execution_count": 15,
   "id": "068179ce-a3e9-4d4a-ab50-81c585e98797",
   "metadata": {},
   "outputs": [],
   "source": [
    "def load_and_augment_neg_wav_tf(filename):\n",
    "    # Loads and augments background wavs with tensorflow, calling respective audiomentation functions\n",
    "    wav = load_wav_8k_mono(filename)\n",
    "    augmented_wav = tf.numpy_function(func=augment_neg_wav, inp=[wav], Tout=tf.float32)\n",
    "    return augmented_wav"
   ]
  },
  {
   "cell_type": "code",
   "execution_count": 16,
   "id": "3b140bff-7d56-4ef0-9954-247e5da2103f",
   "metadata": {},
   "outputs": [],
   "source": [
    "def load_and_augment_val_wav_tf(filename):\n",
    "    # Loads and augments val wavs with tensorflow, calling zero audiomentation functions\n",
    "    wav = load_wav_8k_mono(filename)\n",
    "    augmented_wav = tf.numpy_function(func=augment_val_wav, inp=[wav], Tout=tf.float32)\n",
    "    return augmented_wav"
   ]
  },
  {
   "cell_type": "code",
   "execution_count": 17,
   "id": "1018b4c2-ab54-446f-b934-19623d640448",
   "metadata": {},
   "outputs": [],
   "source": [
    "def load_and_augment_val_wav_tf_tuple(filename, label):\n",
    "    # Loads and augments val wavs with tensorflow, calling zero audiomentation functions\n",
    "    wav = load_wav_8k_mono(filename)\n",
    "    augmented_wav = tf.numpy_function(func=augment_val_wav, inp=[wav], Tout=tf.float32)\n",
    "    return augmented_wav, label"
   ]
  },
  {
   "cell_type": "code",
   "execution_count": 18,
   "id": "93147376-318d-45bd-accb-e24b289d0bfa",
   "metadata": {},
   "outputs": [],
   "source": [
    "def load_and_augment_pos_wav_tf_tuple(filename, label):\n",
    "    # Loads and augments val wavs with tensorflow, calling zero audiomentation functions\n",
    "    wav = load_wav_8k_mono(filename)\n",
    "    augmented_wav = tf.numpy_function(func=augment_pos_wav, inp=[wav], Tout=tf.float32)\n",
    "    return augmented_wav, label"
   ]
  },
  {
   "cell_type": "code",
   "execution_count": 19,
   "id": "b945dcb5-f99a-424b-8aa5-996e7ca562ec",
   "metadata": {},
   "outputs": [],
   "source": [
    "def load_wav_tuple(filename, label):\n",
    "    wav = load_wav_8k_mono(filename)\n",
    "    return wav, label"
   ]
  },
  {
   "cell_type": "code",
   "execution_count": 20,
   "id": "56807f86-ebf1-4d97-9419-ee267007a414",
   "metadata": {},
   "outputs": [],
   "source": [
    "# test_csv = os.path.join('belize-data', 'b_test_files_and_labels.csv')\n",
    "# val_csv = os.path.join('belize-data', 'b_val_files_and_labels.csv')\n",
    "val_NEG = os.path.join('belize-data', 'Validation data', 'Background')\n",
    "val_POS = os.path.join('belize-data', 'Validation data', 'Gunshot')\n",
    "train_NEG = os.path.join('belize-data', 'Training data', 'Background')\n",
    "train_POS = os.path.join('belize-data', 'Training data', 'Gunshot')\n",
    "# neg_inject = os.path.join('neg_inject')\n",
    "\n",
    "model_save_dir = os.path.join('model','model_exports')"
   ]
  },
  {
   "cell_type": "code",
   "execution_count": 21,
   "id": "73e6d3af-d578-4c0e-8a03-74c1d8d15b5d",
   "metadata": {},
   "outputs": [],
   "source": [
    "def create_arr_from_csv(csv_filepath):\n",
    "    with open(csv_filepath, 'r') as f:\n",
    "        reader = csv.reader(f)\n",
    "        data = list(reader)\n",
    "        data = data[1:]\n",
    "    return data"
   ]
  },
  {
   "cell_type": "code",
   "execution_count": 22,
   "id": "0e3b4767-9de6-48fa-bd48-1770cd6b810e",
   "metadata": {},
   "outputs": [],
   "source": [
    "def change_label_type(filename, label):\n",
    "    label = int(label)\n",
    "    label = tf.cast(label, tf.float32)\n",
    "    return filename, label"
   ]
  },
  {
   "cell_type": "code",
   "execution_count": 23,
   "id": "04fe1052-6694-44cf-b0df-868422320999",
   "metadata": {},
   "outputs": [],
   "source": [
    "def prepare_valdata_csv(csv_filepath):\n",
    "    data = create_arr_from_csv(csv_filepath)\n",
    "    \n",
    "    data = np.array(data)\n",
    "    filenames = data[:,0]\n",
    "    labels = data[:,1].astype(int)\n",
    "    \n",
    "    data = tf.data.Dataset.from_tensor_slices((filenames, labels))\n",
    "    \n",
    "    data = data.map(load_and_augment_val_wav_tf_tuple)\n",
    "    data = data.map(change_label_type)\n",
    "    data = data.map(preprocess_mel)\n",
    "    return data"
   ]
  },
  {
   "cell_type": "markdown",
   "id": "2965cd80-7a60-4f2a-8f52-f5e46db4384f",
   "metadata": {},
   "source": [
    "-------------------------------------------"
   ]
  },
  {
   "cell_type": "code",
   "execution_count": 24,
   "id": "4586853f-9637-49a7-ba67-b08ff184f64f",
   "metadata": {},
   "outputs": [
    {
     "name": "stdout",
     "output_type": "stream",
     "text": [
      "Train pos length before upsampling: 597\n",
      "Train neg length: 28193\n",
      "Train pos length after upsampling: 28193\n",
      "WARNING:tensorflow:Using a while_loop for converting IO>AudioResample\n",
      "Wav Shape: <unknown>\n",
      "STFT Shape1: <unknown>\n",
      "STFT Shape2: <unknown>\n",
      "Mel Filterbank Shape: (129, 64)\n",
      "Mel Spectrogram Shape1: <unknown>\n",
      "Mel Spectrogram Shape2: <unknown>\n",
      "WARNING:tensorflow:Using a while_loop for converting IO>AudioResample\n",
      "Wav Shape: <unknown>\n",
      "STFT Shape1: <unknown>\n",
      "STFT Shape2: <unknown>\n",
      "Mel Filterbank Shape: (129, 64)\n",
      "Mel Spectrogram Shape1: <unknown>\n",
      "Mel Spectrogram Shape2: <unknown>\n"
     ]
    }
   ],
   "source": [
    "train_pos = glob.glob(train_POS+'/*.wav')\n",
    "train_neg_temp = glob.glob(train_NEG+'/*.wav')\n",
    "\n",
    "#upsample train_pos\n",
    "print(f'Train pos length before upsampling: {len(train_pos)}')\n",
    "print(f'Train neg length: {len(train_neg_temp)}')\n",
    "train_pos = train_pos*(math.floor(len(train_neg_temp)/len(train_pos)))\n",
    "train_pos.extend(train_pos[:((len(train_neg_temp))%(len(train_pos)))])\n",
    "print(f'Train pos length after upsampling: {len(train_pos)}')\n",
    "\n",
    "# preprocess val pos\n",
    "train_pos = tf.data.Dataset.from_tensor_slices((train_pos, [1]*(len(train_pos))))\n",
    "train_pos = train_pos.map(change_label_type)\n",
    "train_pos = train_pos.map(load_wav_tuple)\n",
    "train_pos = train_pos.map(preprocess_mel)\n",
    "\n",
    "# preprocess train neg\n",
    "train_neg = tf.data.Dataset.list_files(train_NEG+'/*.wav')\n",
    "train_neg = train_neg.map(load_wav_8k_mono)\n",
    "train_neg = tf.data.Dataset.zip((train_neg, tf.data.Dataset.from_tensor_slices(tf.zeros(len(train_neg)))))\n",
    "train_neg = train_neg.map(preprocess_mel)\n",
    "\n",
    "train_data = train_pos.concatenate(train_neg)"
   ]
  },
  {
   "cell_type": "code",
   "execution_count": 25,
   "id": "28f558b5-a62c-46c2-b3e6-cf5332e98939",
   "metadata": {},
   "outputs": [
    {
     "name": "stdout",
     "output_type": "stream",
     "text": [
      "WARNING:tensorflow:Using a while_loop for converting IO>AudioResample\n",
      "Wav Shape: <unknown>\n",
      "STFT Shape1: <unknown>\n",
      "STFT Shape2: <unknown>\n",
      "Mel Filterbank Shape: (129, 64)\n",
      "Mel Spectrogram Shape1: <unknown>\n",
      "Mel Spectrogram Shape2: <unknown>\n",
      "WARNING:tensorflow:Using a while_loop for converting IO>AudioResample\n",
      "Wav Shape: <unknown>\n",
      "STFT Shape1: <unknown>\n",
      "STFT Shape2: <unknown>\n",
      "Mel Filterbank Shape: (129, 64)\n",
      "Mel Spectrogram Shape1: <unknown>\n",
      "Mel Spectrogram Shape2: <unknown>\n"
     ]
    }
   ],
   "source": [
    "# preprocess val pos\n",
    "val_pos = tf.data.Dataset.list_files(val_POS+'/*.wav')\n",
    "val_pos = val_pos.map(load_wav_8k_mono)\n",
    "val_pos = tf.data.Dataset.zip((val_pos, tf.data.Dataset.from_tensor_slices(tf.ones(len(val_pos)))))\n",
    "val_pos = val_pos.map(preprocess_mel)\n",
    "\n",
    "# preprocess val neg\n",
    "val_neg = tf.data.Dataset.list_files(val_NEG+'/*.wav')\n",
    "val_neg = val_neg.map(load_wav_8k_mono)\n",
    "val_neg = tf.data.Dataset.zip((val_neg, tf.data.Dataset.from_tensor_slices(tf.zeros(len(val_neg)))))\n",
    "val_neg = val_neg.map(preprocess_mel)\n",
    "\n",
    "# join datasets\n",
    "val_data = val_pos.concatenate(val_neg)"
   ]
  },
  {
   "cell_type": "code",
   "execution_count": 26,
   "id": "06f00cdc-cf2b-4c25-a4fc-3608ea86b28c",
   "metadata": {},
   "outputs": [],
   "source": [
    "train_data = train_data.cache()\n",
    "train_data = train_data.shuffle(buffer_size=(len(train_data)+1))\n",
    "train_data = train_data.batch(128)\n",
    "train_data = train_data.prefetch(8)\n",
    "train = train_data"
   ]
  },
  {
   "cell_type": "code",
   "execution_count": 27,
   "id": "7558571a-5fcc-4197-abbf-dd909b5f552e",
   "metadata": {},
   "outputs": [],
   "source": [
    "val_data = val_data.cache()\n",
    "val_data = val_data.shuffle(buffer_size=(len(val_data)+1))\n",
    "val_data = val_data.batch(128)\n",
    "val_data = val_data.prefetch(8)\n",
    "val = val_data"
   ]
  },
  {
   "cell_type": "markdown",
   "id": "960b610b-6e0f-4d83-a687-fbeb13420b0c",
   "metadata": {},
   "source": [
    "----------------------------------------------"
   ]
  },
  {
   "cell_type": "code",
   "execution_count": 27,
   "id": "255f347e-1bff-40dd-b740-ff2f3c376483",
   "metadata": {},
   "outputs": [
    {
     "data": {
      "text/plain": [
       "441"
      ]
     },
     "execution_count": 27,
     "metadata": {},
     "output_type": "execute_result"
    }
   ],
   "source": [
    "len(train)"
   ]
  },
  {
   "cell_type": "code",
   "execution_count": 28,
   "id": "d89e0aff-07fc-4cd1-9ab7-5eed6b7f4644",
   "metadata": {},
   "outputs": [
    {
     "data": {
      "text/plain": [
       "57"
      ]
     },
     "execution_count": 28,
     "metadata": {},
     "output_type": "execute_result"
    }
   ],
   "source": [
    "len(val)"
   ]
  },
  {
   "cell_type": "code",
   "execution_count": 53,
   "id": "6ecac4a5-7ebe-4873-ba61-0d29ec2f5480",
   "metadata": {},
   "outputs": [
    {
     "data": {
      "text/plain": [
       "36"
      ]
     },
     "execution_count": 53,
     "metadata": {},
     "output_type": "execute_result"
    }
   ],
   "source": [
    "len(train_small)"
   ]
  },
  {
   "cell_type": "code",
   "execution_count": 51,
   "id": "f2c7cd5f-380a-477c-a3dd-6296de79d90d",
   "metadata": {
    "collapsed": true,
    "jupyter": {
     "outputs_hidden": true,
     "source_hidden": true
    },
    "scrolled": true
   },
   "outputs": [
    {
     "name": "stdout",
     "output_type": "stream",
     "text": [
      "(<tf.Tensor: shape=(16, 249, 64, 1), dtype=float32, numpy=\n",
      "array([[[[0.26087654],\n",
      "         [0.2517355 ],\n",
      "         [0.00300037],\n",
      "         ...,\n",
      "         [0.03704636],\n",
      "         [0.02794188],\n",
      "         [0.02905342]],\n",
      "\n",
      "        [[0.25940454],\n",
      "         [0.25015768],\n",
      "         [0.00119173],\n",
      "         ...,\n",
      "         [0.01881473],\n",
      "         [0.0339442 ],\n",
      "         [0.02414957]],\n",
      "\n",
      "        [[0.26357332],\n",
      "         [0.2543687 ],\n",
      "         [0.0033831 ],\n",
      "         ...,\n",
      "         [0.01631916],\n",
      "         [0.02532245],\n",
      "         [0.02465568]],\n",
      "\n",
      "        ...,\n",
      "\n",
      "        [[0.2615464 ],\n",
      "         [0.2532186 ],\n",
      "         [0.01253245],\n",
      "         ...,\n",
      "         [0.03414609],\n",
      "         [0.03267826],\n",
      "         [0.025105  ]],\n",
      "\n",
      "        [[0.2614805 ],\n",
      "         [0.25352886],\n",
      "         [0.01678792],\n",
      "         ...,\n",
      "         [0.04190835],\n",
      "         [0.03010277],\n",
      "         [0.03837941]],\n",
      "\n",
      "        [[0.25849655],\n",
      "         [0.24962611],\n",
      "         [0.00510388],\n",
      "         ...,\n",
      "         [0.02053775],\n",
      "         [0.03629862],\n",
      "         [0.02889166]]],\n",
      "\n",
      "\n",
      "       [[[0.30345744],\n",
      "         [0.295131  ],\n",
      "         [0.02974794],\n",
      "         ...,\n",
      "         [0.02102646],\n",
      "         [0.01509722],\n",
      "         [0.02390666]],\n",
      "\n",
      "        [[0.2988829 ],\n",
      "         [0.29031968],\n",
      "         [0.02517501],\n",
      "         ...,\n",
      "         [0.0235344 ],\n",
      "         [0.02028283],\n",
      "         [0.03869528]],\n",
      "\n",
      "        [[0.26034445],\n",
      "         [0.2572092 ],\n",
      "         [0.07114976],\n",
      "         ...,\n",
      "         [0.0138418 ],\n",
      "         [0.02150441],\n",
      "         [0.03374407]],\n",
      "\n",
      "        ...,\n",
      "\n",
      "        [[0.31346315],\n",
      "         [0.305233  ],\n",
      "         [0.03494987],\n",
      "         ...,\n",
      "         [0.01807081],\n",
      "         [0.02470416],\n",
      "         [0.02315784]],\n",
      "\n",
      "        [[0.3073056 ],\n",
      "         [0.29893818],\n",
      "         [0.03086059],\n",
      "         ...,\n",
      "         [0.02458584],\n",
      "         [0.01418144],\n",
      "         [0.02031349]],\n",
      "\n",
      "        [[0.28881815],\n",
      "         [0.2811858 ],\n",
      "         [0.03164106],\n",
      "         ...,\n",
      "         [0.02274616],\n",
      "         [0.0358214 ],\n",
      "         [0.03357867]]],\n",
      "\n",
      "\n",
      "       [[[0.14366266],\n",
      "         [0.13976625],\n",
      "         [0.01460089],\n",
      "         ...,\n",
      "         [0.03183514],\n",
      "         [0.02943717],\n",
      "         [0.03486796]],\n",
      "\n",
      "        [[0.12437636],\n",
      "         [0.12120925],\n",
      "         [0.01498823],\n",
      "         ...,\n",
      "         [0.03154143],\n",
      "         [0.02891438],\n",
      "         [0.02048692]],\n",
      "\n",
      "        [[0.15413527],\n",
      "         [0.14917661],\n",
      "         [0.00680657],\n",
      "         ...,\n",
      "         [0.01466812],\n",
      "         [0.02236284],\n",
      "         [0.01952163]],\n",
      "\n",
      "        ...,\n",
      "\n",
      "        [[0.14661184],\n",
      "         [0.14557101],\n",
      "         [0.04831812],\n",
      "         ...,\n",
      "         [0.0280528 ],\n",
      "         [0.02943884],\n",
      "         [0.02481296]],\n",
      "\n",
      "        [[0.18001969],\n",
      "         [0.17540114],\n",
      "         [0.02130049],\n",
      "         ...,\n",
      "         [0.02793407],\n",
      "         [0.02466567],\n",
      "         [0.01796809]],\n",
      "\n",
      "        [[0.13551718],\n",
      "         [0.13281582],\n",
      "         [0.02486213],\n",
      "         ...,\n",
      "         [0.03832956],\n",
      "         [0.02946289],\n",
      "         [0.01868356]]],\n",
      "\n",
      "\n",
      "       ...,\n",
      "\n",
      "\n",
      "       [[[0.35543087],\n",
      "         [0.34335735],\n",
      "         [0.00842153],\n",
      "         ...,\n",
      "         [0.02014668],\n",
      "         [0.01646364],\n",
      "         [0.01803205]],\n",
      "\n",
      "        [[0.34859845],\n",
      "         [0.337504  ],\n",
      "         [0.01676271],\n",
      "         ...,\n",
      "         [0.01168552],\n",
      "         [0.01736806],\n",
      "         [0.0132493 ]],\n",
      "\n",
      "        [[0.35019544],\n",
      "         [0.3417292 ],\n",
      "         [0.04733644],\n",
      "         ...,\n",
      "         [0.02864316],\n",
      "         [0.02578926],\n",
      "         [0.02021835]],\n",
      "\n",
      "        ...,\n",
      "\n",
      "        [[0.35288253],\n",
      "         [0.34506014],\n",
      "         [0.05576857],\n",
      "         ...,\n",
      "         [0.02231142],\n",
      "         [0.03975414],\n",
      "         [0.06250949]],\n",
      "\n",
      "        [[0.35950953],\n",
      "         [0.3495869 ],\n",
      "         [0.03458003],\n",
      "         ...,\n",
      "         [0.02374131],\n",
      "         [0.0367714 ],\n",
      "         [0.03495133]],\n",
      "\n",
      "        [[0.35209355],\n",
      "         [0.34171358],\n",
      "         [0.02633044],\n",
      "         ...,\n",
      "         [0.02419448],\n",
      "         [0.01387539],\n",
      "         [0.02052867]]],\n",
      "\n",
      "\n",
      "       [[[0.2637975 ],\n",
      "         [0.25618464],\n",
      "         [0.02159498],\n",
      "         ...,\n",
      "         [0.09632983],\n",
      "         [0.08135103],\n",
      "         [0.12880641]],\n",
      "\n",
      "        [[0.25003913],\n",
      "         [0.242379  ],\n",
      "         [0.01541094],\n",
      "         ...,\n",
      "         [0.10044872],\n",
      "         [0.08980124],\n",
      "         [0.07507858]],\n",
      "\n",
      "        [[0.25041476],\n",
      "         [0.24200952],\n",
      "         [0.00708322],\n",
      "         ...,\n",
      "         [0.03377157],\n",
      "         [0.06302562],\n",
      "         [0.07826008]],\n",
      "\n",
      "        ...,\n",
      "\n",
      "        [[0.27587625],\n",
      "         [0.26894128],\n",
      "         [0.03426887],\n",
      "         ...,\n",
      "         [0.07164412],\n",
      "         [0.08718368],\n",
      "         [0.14707628]],\n",
      "\n",
      "        [[0.24719234],\n",
      "         [0.23896083],\n",
      "         [0.00773843],\n",
      "         ...,\n",
      "         [0.06623014],\n",
      "         [0.06800527],\n",
      "         [0.10623872]],\n",
      "\n",
      "        [[0.25664538],\n",
      "         [0.24940212],\n",
      "         [0.02286761],\n",
      "         ...,\n",
      "         [0.06685807],\n",
      "         [0.11727227],\n",
      "         [0.12654965]]],\n",
      "\n",
      "\n",
      "       [[[0.3528025 ],\n",
      "         [0.34212017],\n",
      "         [0.02317927],\n",
      "         ...,\n",
      "         [0.02944994],\n",
      "         [0.01965389],\n",
      "         [0.02424247]],\n",
      "\n",
      "        [[0.33617052],\n",
      "         [0.3256593 ],\n",
      "         [0.0183019 ],\n",
      "         ...,\n",
      "         [0.03082418],\n",
      "         [0.02600766],\n",
      "         [0.02131085]],\n",
      "\n",
      "        [[0.3580751 ],\n",
      "         [0.34605464],\n",
      "         [0.01011011],\n",
      "         ...,\n",
      "         [0.03440782],\n",
      "         [0.04001972],\n",
      "         [0.03716556]],\n",
      "\n",
      "        ...,\n",
      "\n",
      "        [[0.34500405],\n",
      "         [0.33357188],\n",
      "         [0.01144301],\n",
      "         ...,\n",
      "         [0.03364073],\n",
      "         [0.03126506],\n",
      "         [0.0186901 ]],\n",
      "\n",
      "        [[0.3540605 ],\n",
      "         [0.34362447],\n",
      "         [0.02649948],\n",
      "         ...,\n",
      "         [0.02219891],\n",
      "         [0.01829517],\n",
      "         [0.03023769]],\n",
      "\n",
      "        [[0.35165814],\n",
      "         [0.34011796],\n",
      "         [0.01294421],\n",
      "         ...,\n",
      "         [0.03360358],\n",
      "         [0.03269655],\n",
      "         [0.02541937]]]], dtype=float32)>, <tf.Tensor: shape=(16,), dtype=float32, numpy=\n",
      "array([1., 1., 0., 1., 0., 0., 1., 0., 0., 0., 1., 1., 0., 1., 1., 1.],\n",
      "      dtype=float32)>)\n"
     ]
    }
   ],
   "source": [
    "for batch in train_small.take(1):\n",
    "    print(batch)"
   ]
  },
  {
   "cell_type": "code",
   "execution_count": 56,
   "id": "7d933c77-6c50-4694-b397-5943b46548fd",
   "metadata": {
    "jupyter": {
     "source_hidden": true
    }
   },
   "outputs": [],
   "source": [
    "def take_element_and_label(dataset):\n",
    "    for batch, labels in dataset.take(1):\n",
    "        singular_element = batch[0]\n",
    "        singular_label = labels[0]\n",
    "    return singular_element, singular_label"
   ]
  },
  {
   "cell_type": "code",
   "execution_count": 64,
   "id": "c02b293d-e3e6-4083-a2b4-c582ad2a0094",
   "metadata": {
    "collapsed": true,
    "jupyter": {
     "outputs_hidden": true,
     "source_hidden": true
    },
    "scrolled": true
   },
   "outputs": [
    {
     "name": "stdout",
     "output_type": "stream",
     "text": [
      "1.0\n",
      "(249, 64, 1)\n"
     ]
    },
    {
     "data": {
      "image/png": "[encoded data removed]",
      "text/plain": [
       "<Figure size 3000x2000 with 2 Axes>"
      ]
     },
     "metadata": {},
     "output_type": "display_data"
    }
   ],
   "source": [
    "singular_element, singular_label = take_element_and_label(train_small)\n",
    "print(singular_label.numpy())\n",
    "prepared_spectrogram = singular_element\n",
    "# prepared_spectrogram = tf.squeeze(singular_element, axis=-1)\n",
    "print(prepared_spectrogram.shape)\n",
    "plt.figure(figsize=(30,20))\n",
    "plt.imshow(tf.transpose(prepared_spectrogram)[0])\n",
    "plt.colorbar(label=\"Amplitude\")\n",
    "plt.title(\"Test of a prepared spectrogram\")\n",
    "plt.xlabel(\"Time\")\n",
    "plt.ylabel(\"Frequency\")\n",
    "plt.show()"
   ]
  },
  {
   "cell_type": "markdown",
   "id": "c5286f8d-bc92-40eb-8e74-72cb65584c9b",
   "metadata": {},
   "source": [
    "---------------\n"
   ]
  },
  {
   "cell_type": "code",
   "execution_count": 28,
   "id": "1cc6c5ec-87db-4ece-ac0a-fddaa0e3a9b7",
   "metadata": {},
   "outputs": [],
   "source": [
    "from tensorflow.keras.models import Sequential\n",
    "from tensorflow.keras.layers import Conv2D, Dense, Flatten, Dropout, MaxPooling2D, BatchNormalization\n",
    "from tensorflow.keras.losses import BinaryCrossentropy\n",
    "from tensorflow.keras.metrics import Recall, Precision, Accuracy\n",
    "from tensorflow.keras.callbacks import ModelCheckpoint"
   ]
  },
  {
   "cell_type": "code",
   "execution_count": 29,
   "id": "236ef1df-8d5f-4db8-bc89-a61ea30b6c06",
   "metadata": {},
   "outputs": [],
   "source": [
    "from tensorflow import keras\n",
    "import keras_tuner\n",
    "from tensorflow.keras import layers, regularizers\n",
    "from tensorflow.keras.regularizers import l2"
   ]
  },
  {
   "cell_type": "code",
   "execution_count": null,
   "id": "26186e88-e991-4666-a973-ef573a5c9ab4",
   "metadata": {
    "jupyter": {
     "source_hidden": true
    }
   },
   "outputs": [],
   "source": [
    "model = Sequential()\n",
    "\n",
    "model.add(Conv2D(16, (3,3), activation='relu', input_shape=(249, 64, 1)))\n",
    "model.add(Dropout(0.1))\n",
    "model.add(Conv2D(16, (3,3), activation='relu', kernel_regularizer=l2(0.005)))\n",
    "model.add(Dropout(0.1))\n",
    "model.add(Flatten())\n",
    "model.add(Dense(128, activation='relu', kernel_regularizer=l2(0.005)))\n",
    "model.add(Dropout(0.3))\n",
    "model.add(Dense(1, activation='sigmoid'))\n",
    "\n",
    "model.compile('Adam', loss=tf.keras.losses.BinaryCrossentropy(from_logits=False), metrics=[tf.keras.metrics.Recall(),tf.keras.metrics.Precision(),tf.keras.metrics.BinaryAccuracy()])\n",
    "\n",
    "model.summary()"
   ]
  },
  {
   "cell_type": "code",
   "execution_count": 67,
   "id": "f189bca3-817a-4779-baa9-1f9624f53377",
   "metadata": {},
   "outputs": [
    {
     "name": "stdout",
     "output_type": "stream",
     "text": [
      "Model: \"sequential_7\"\n",
      "_________________________________________________________________\n",
      " Layer (type)                Output Shape              Param #   \n",
      "=================================================================\n",
      " conv2d_13 (Conv2D)          (None, 247, 62, 16)       160       \n",
      "                                                                 \n",
      " max_pooling2d_2 (MaxPooling  (None, 123, 31, 16)      0         \n",
      " 2D)                                                             \n",
      "                                                                 \n",
      " conv2d_14 (Conv2D)          (None, 121, 29, 16)       2320      \n",
      "                                                                 \n",
      " max_pooling2d_3 (MaxPooling  (None, 60, 14, 16)       0         \n",
      " 2D)                                                             \n",
      "                                                                 \n",
      " dropout_12 (Dropout)        (None, 60, 14, 16)        0         \n",
      "                                                                 \n",
      " flatten_6 (Flatten)         (None, 13440)             0         \n",
      "                                                                 \n",
      " dense_12 (Dense)            (None, 128)               1720448   \n",
      "                                                                 \n",
      " dropout_13 (Dropout)        (None, 128)               0         \n",
      "                                                                 \n",
      " dense_13 (Dense)            (None, 1)                 129       \n",
      "                                                                 \n",
      "=================================================================\n",
      "Total params: 1,723,057\n",
      "Trainable params: 1,723,057\n",
      "Non-trainable params: 0\n",
      "_________________________________________________________________\n"
     ]
    }
   ],
   "source": [
    "model = Sequential()\n",
    "\n",
    "model.add(Conv2D(16, (3,3), activation='relu', input_shape=(249, 64, 1)))\n",
    "model.add(MaxPooling2D(pool_size=(2,2)))\n",
    "model.add(Conv2D(16, (3,3), activation='relu'))\n",
    "model.add(MaxPooling2D(pool_size=(2,2)))\n",
    "model.add(Dropout(0.1))\n",
    "model.add(Flatten())\n",
    "model.add(Dense(128, activation='relu', kernel_regularizer=l2(0.0000001)))\n",
    "model.add(Dropout(0.2))\n",
    "model.add(Dense(1, activation='sigmoid'))\n",
    "\n",
    "model.compile('Adam', loss=tf.keras.losses.BinaryCrossentropy(from_logits=False), metrics=[tf.keras.metrics.Recall(),tf.keras.metrics.Precision()])\n",
    "\n",
    "model.summary()"
   ]
  },
  {
   "cell_type": "code",
   "execution_count": 68,
   "id": "a725bebb-58fe-4a3c-8797-f4e5141c74e2",
   "metadata": {},
   "outputs": [
    {
     "name": "stdout",
     "output_type": "stream",
     "text": [
      "Epoch 1/10\n",
      "384/384 [==============================] - 11s 25ms/step - loss: 0.2252 - recall_6: 0.9231 - precision_6: 0.8966 - val_loss: 0.0773 - val_recall_6: 0.9961 - val_precision_6: 0.9471\n",
      "Epoch 2/10\n",
      "384/384 [==============================] - 9s 24ms/step - loss: 0.0544 - recall_6: 0.9924 - precision_6: 0.9793 - val_loss: 0.0228 - val_recall_6: 1.0000 - val_precision_6: 0.9886\n",
      "Epoch 3/10\n",
      "384/384 [==============================] - 9s 24ms/step - loss: 0.0294 - recall_6: 0.9968 - precision_6: 0.9881 - val_loss: 0.0121 - val_recall_6: 0.9981 - val_precision_6: 0.9961\n",
      "Epoch 4/10\n",
      "384/384 [==============================] - 10s 25ms/step - loss: 0.0142 - recall_6: 0.9989 - precision_6: 0.9947 - val_loss: 0.0061 - val_recall_6: 1.0000 - val_precision_6: 0.9983\n",
      "Epoch 5/10\n",
      "384/384 [==============================] - 9s 24ms/step - loss: 0.0138 - recall_6: 0.9986 - precision_6: 0.9948 - val_loss: 0.0043 - val_recall_6: 1.0000 - val_precision_6: 0.9994\n",
      "Epoch 6/10\n",
      "384/384 [==============================] - 9s 24ms/step - loss: 0.0115 - recall_6: 0.9985 - precision_6: 0.9963 - val_loss: 0.0029 - val_recall_6: 1.0000 - val_precision_6: 0.9989\n",
      "Epoch 7/10\n",
      "384/384 [==============================] - 9s 24ms/step - loss: 0.0112 - recall_6: 0.9990 - precision_6: 0.9969 - val_loss: 0.0021 - val_recall_6: 1.0000 - val_precision_6: 0.9995\n",
      "Epoch 8/10\n",
      "384/384 [==============================] - 9s 24ms/step - loss: 0.0060 - recall_6: 0.9995 - precision_6: 0.9983 - val_loss: 0.0024 - val_recall_6: 1.0000 - val_precision_6: 0.9989\n",
      "Epoch 9/10\n",
      "384/384 [==============================] - 9s 24ms/step - loss: 0.0079 - recall_6: 0.9990 - precision_6: 0.9979 - val_loss: 0.0048 - val_recall_6: 1.0000 - val_precision_6: 0.9989\n",
      "Epoch 10/10\n",
      "384/384 [==============================] - 9s 24ms/step - loss: 0.0131 - recall_6: 0.9982 - precision_6: 0.9965 - val_loss: 0.0031 - val_recall_6: 1.0000 - val_precision_6: 0.9995\n"
     ]
    }
   ],
   "source": [
    "hist = model.fit(train, epochs=10, validation_data=val"
   ]
  },
  {
   "cell_type": "markdown",
   "id": "c4a53989-aaf3-4031-98a1-392bcaeee9ec",
   "metadata": {},
   "source": [
    "#### 7:33PM 1/19/25 --> edited model and tested on baby dataset.\n",
    "\n",
    "--> low l2 better, stick with 'Adam', low dropout good but didnt test\n",
    "\n",
    "Epoch 1/10\n",
    "36/36 [==============================] - 4s 66ms/step - loss: 0.5207 - recall_4: 0.7969 - precision_4: 0.7592 - val_loss: 0.2952 - val_recall_4: 0.8951 - val_precision_4: 0.8832\n",
    "Epoch 2/10\n",
    "36/36 [==============================] - 2s 59ms/step - loss: 0.2393 - recall_4: 0.9245 - precision_4: 0.8989 - val_loss: 0.1464 - val_recall_4: 0.9750 - val_precision_4: 0.9430\n",
    "Epoch 3/10\n",
    "36/36 [==============================] - 2s 60ms/step - loss: 0.1194 - recall_4: 0.9818 - precision_4: 0.9583 - val_loss: 0.0736 - val_recall_4: 0.9887 - val_precision_4: 0.9806\n",
    "Epoch 4/10\n",
    "36/36 [==============================] - 2s 60ms/step - loss: 0.0850 - recall_4: 0.9832 - precision_4: 0.9694 - val_loss: 0.0655 - val_recall_4: 0.9989 - val_precision_4: 0.9774\n",
    "Epoch 5/10\n",
    "36/36 [==============================] - 2s 59ms/step - loss: 0.0608 - recall_4: 0.9909 - precision_4: 0.9769 - val_loss: 0.0504 - val_recall_4: 0.9899 - val_precision_4: 0.9949\n",
    "Epoch 6/10\n",
    "36/36 [==============================] - 2s 60ms/step - loss: 0.0330 - recall_4: 0.9987 - precision_4: 0.9910 - val_loss: 0.0210 - val_recall_4: 1.0000 - val_precision_4: 0.9950\n",
    "Epoch 7/10\n",
    "36/36 [==============================] - 2s 60ms/step - loss: 0.0500 - recall_4: 0.9945 - precision_4: 0.9817 - val_loss: 0.0460 - val_recall_4: 1.0000 - val_precision_4: 0.9718\n",
    "Epoch 8/10\n",
    "36/36 [==============================] - 2s 59ms/step - loss: 0.0340 - recall_4: 0.9935 - precision_4: 0.9904 - val_loss: 0.0200 - val_recall_4: 1.0000 - val_precision_4: 0.9959\n",
    "Epoch 9/10\n",
    "36/36 [==============================] - 2s 60ms/step - loss: 0.0300 - recall_4: 0.9974 - precision_4: 0.9925 - val_loss: 0.0107 - val_recall_4: 1.0000 - val_precision_4: 0.9980\n",
    "Epoch 10/10\n",
    "36/36 [==============================] - 2s 60ms/step - loss: 0.0114 - recall_4: 0.9996 - precision_4: 0.9979 - val_loss: 0.0141 - val_recall_4: 1.0000 - val_precision_4: 0.9922\n",
    "\n",
    "model = Sequential()\n",
    "\n",
    "model.add(Conv2D(16, (3,3), activation='relu', input_shape=(249, 64, 1)))\n",
    "model.add(Conv2D(16, (3,3), activation='relu', kernel_regularizer=l2(0.0000001)))\n",
    "model.add(Dropout(0.1))\n",
    "model.add(Flatten())\n",
    "model.add(Dense(128, activation='relu', kernel_regularizer=l2(0.0000001)))\n",
    "model.add(Dropout(0.2))\n",
    "model.add(Dense(1, activation='sigmoid'))\n",
    "\n",
    "model.compile('Adam', loss=tf.keras.losses.BinaryCrossentropy(from_logits=False), metrics=[tf.keras.metrics.Recall(),tf.keras.metrics.Precision()])\n",
    "\n",
    "model.summary()"
   ]
  },
  {
   "cell_type": "markdown",
   "id": "c4e56d9e-5943-4d96-9d3b-c4cc13ad9fec",
   "metadata": {
    "jp-MarkdownHeadingCollapsed": true
   },
   "source": [
    "#### 7:19PM 1/19/25 --> increased training time and LR, interesting results\n",
    "\n",
    "val loss kinda choppy but pretty much went down-->good sign. will will train longer, lower LR, add augmentations, maybe more regularization: there is still a big gap between train f1 and val f1\n",
    "\n",
    "##### Data preparation\n",
    "upsample train_pos\n",
    "load_wav_8k_mono\n",
    "preprocess_mel\n",
    "\n",
    "train_data = train_data.cache()\n",
    "train_data = train_data.shuffle(buffer_size=(len(train_data)+1))\n",
    "train_data = train_data.batch(64)\n",
    "train_data = train_data.prefetch(8)\n",
    "train = train_data\n",
    "\n",
    "val_data = val_data.cache()\n",
    "val_data = val_data.shuffle(buffer_size=(len(val_data)+1))\n",
    "val_data = val_data.batch(64)\n",
    "val_data = val_data.prefetch(8)\n",
    "val = val_data\n",
    "\n",
    "no augmentation\n",
    "\n",
    "##### Evaluation\n",
    "\n",
    "Epoch 1/20\n",
    "441/441 [==============================] - 22s 48ms/step - loss: 0.9888 - recall_2: 0.8536 - precision_2: 0.8162 - val_loss: 0.7456 - val_recall_2: 0.7333 - val_precision_2: 0.1818\n",
    "\n",
    "Epoch 2/20\n",
    "441/441 [==============================] - 21s 47ms/step - loss: 0.7656 - recall_2: 0.9229 - precision_2: 0.9114 - val_loss: 0.8198 - val_recall_2: 0.8267 - val_precision_2: 0.1931\n",
    "\n",
    "Epoch 3/20\n",
    "441/441 [==============================] - 21s 47ms/step - loss: 0.7121 - recall_2: 0.9409 - precision_2: 0.9342 - val_loss: 0.8038 - val_recall_2: 0.7200 - val_precision_2: 0.1145\n",
    "\n",
    "Epoch 4/20\n",
    "441/441 [==============================] - 21s 47ms/step - loss: 0.7116 - recall_2: 0.9470 - precision_2: 0.9419 - val_loss: 0.8676 - val_recall_2: 0.7733 - val_precision_2: 0.1921\n",
    "\n",
    "Epoch 5/20\n",
    "441/441 [==============================] - 21s 47ms/step - loss: 0.6879 - recall_2: 0.9540 - precision_2: 0.9492 - val_loss: 0.6720 - val_recall_2: 0.7200 - val_precision_2: 0.2466\n",
    "\n",
    "Epoch 6/20\n",
    "441/441 [==============================] - 21s 47ms/step - loss: 0.6518 - recall_2: 0.9574 - precision_2: 0.9543 - val_loss: 1.0113 - val_recall_2: 0.8667 - val_precision_2: 0.1033\n",
    "\n",
    "Epoch 7/20\n",
    "441/441 [==============================] - 21s 48ms/step - loss: 0.6170 - recall_2: 0.9638 - precision_2: 0.9577 - val_loss: 0.6128 - val_recall_2: 0.7533 - val_precision_2: 0.3201\n",
    "\n",
    "Epoch 8/20\n",
    "441/441 [==============================] - 21s 47ms/step - loss: 0.5572 - recall_2: 0.9688 - precision_2: 0.9625 - val_loss: 0.5633 - val_recall_2: 0.7200 - val_precision_2: 0.3450\n",
    "\n",
    "Epoch 9/20\n",
    "441/441 [==============================] - 21s 48ms/step - loss: 0.5249 - recall_2: 0.9727 - precision_2: 0.9663 - val_loss: 0.5254 - val_recall_2: 0.7067 - val_precision_2: 0.3897\n",
    "\n",
    "Epoch 10/20\n",
    "441/441 [==============================] - 21s 48ms/step - loss: 0.5014 - recall_2: 0.9730 - precision_2: 0.9676 - val_loss: 0.4891 - val_recall_2: 0.7067 - val_precision_2: 0.3302\n",
    "\n",
    "Epoch 11/20\n",
    "441/441 [==============================] - 21s 47ms/step - loss: 0.4697 - recall_2: 0.9750 - precision_2: 0.9692 - val_loss: 0.4477 - val_recall_2: 0.6667 - val_precision_2: 0.3676\n",
    "\n",
    "Epoch 12/20\n",
    "441/441 [==============================] - 21s 47ms/step - loss: 0.4802 - recall_2: 0.9757 - precision_2: 0.9705 - val_loss: 0.4478 - val_recall_2: 0.6467 - val_precision_2: 0.5607\n",
    "\n",
    "Epoch 13/20\n",
    "441/441 [==============================] - 21s 47ms/step - loss: 0.4609 - recall_2: 0.9775 - precision_2: 0.9736 - val_loss: 0.4547 - val_recall_2: 0.6933 - val_precision_2: 0.4062\n",
    "\n",
    "Epoch 14/20\n",
    "441/441 [==============================] - 21s 47ms/step - loss: 0.4480 - recall_2: 0.9780 - precision_2: 0.9740 - val_loss: 0.4415 - val_recall_2: 0.7067 - val_precision_2: 0.4190\n",
    "\n",
    "Epoch 15/20\n",
    "441/441 [==============================] - 21s 47ms/step - loss: 0.4592 - recall_2: 0.9782 - precision_2: 0.9748 - val_loss: 0.4778 - val_recall_2: 0.7000 - val_precision_2: 0.4585\n",
    "\n",
    "Epoch 16/20\n",
    "441/441 [==============================] - 21s 47ms/step - loss: 0.4288 - recall_2: 0.9800 - precision_2: 0.9756 - val_loss: 0.4887 - val_recall_2: 0.7400 - val_precision_2: 0.3190\n",
    "\n",
    "Epoch 17/20\n",
    "441/441 [==============================] - 21s 46ms/step - loss: 0.4300 - recall_2: 0.9822 - precision_2: 0.9757 - val_loss: 0.4007 - val_recall_2: 0.6533 - val_precision_2: 0.5568\n",
    "\n",
    "Epoch 18/20\n",
    "441/441 [==============================] - 21s 47ms/step - loss: 0.4448 - recall_2: 0.9807 - precision_2: 0.9768 - val_loss: 0.4128 - val_recall_2: 0.6200 - val_precision_2: 0.5000\n",
    "\n",
    "Epoch 19/20\n",
    "441/441 [==============================] - 21s 47ms/step - loss: 0.4299 - recall_2: 0.9822 - precision_2: 0.9776 - val_loss: 0.4258 - val_recall_2: 0.6600 - val_precision_2: 0.4877\n",
    "\n",
    "Epoch 20/20\n",
    "441/441 [==============================] - 21s 47ms/step - loss: 0.4495 - recall_2: 0.9808 - precision_2: 0.9773 - val_loss: 0.4711 - val_recall_2: 0.7400 - val_precision_2: 0.4912\n",
    "\n",
    "##### model = Sequential()\n",
    "\n",
    "model = Sequential()\n",
    "\n",
    "model.add(Conv2D(16, (3,3), activation='relu', input_shape=(249, 64, 1)))\n",
    "model.add(Conv2D(16, (3,3), activation='relu', kernel_regularizer=l2(0.005)))\n",
    "model.add(Dropout(0.2))\n",
    "model.add(Flatten())\n",
    "model.add(Dense(128, activation='relu', kernel_regularizer=l2(0.005)))\n",
    "model.add(Dropout(0.3))\n",
    "model.add(Dense(1, activation='sigmoid'))\n",
    "\n",
    "model.compile(optimizer=keras.optimizers.Adam(learning_rate=0.002), loss=tf.keras.losses.BinaryCrossentropy(from_logits=False), metrics=[tf.keras.metrics.Recall(),tf.keras.metrics.Precision()])\n",
    "\n",
    "model.summary()"
   ]
  },
  {
   "cell_type": "markdown",
   "id": "44771cba-815f-4f39-8c9f-05167c70a63f",
   "metadata": {
    "jupyter": {
     "source_hidden": true
    }
   },
   "source": [
    "#### 6:54PM 1/19/25 --> Added more regularization, metrics not greatest, val loss going down slowly, increase training time and LR?\n",
    "\n",
    "val loss continuously went down-->good sign. will will train longer. however there is still a big gap between train f1 and val f1\n",
    "\n",
    "##### Data preparation\n",
    "upsample train_pos\n",
    "load_wav_8k_mono\n",
    "preprocess_mel\n",
    "\n",
    "train_data = train_data.cache()\n",
    "train_data = train_data.shuffle(buffer_size=(len(train_data)+1))\n",
    "train_data = train_data.batch(64)\n",
    "train_data = train_data.prefetch(8)\n",
    "train = train_data\n",
    "\n",
    "val_data = val_data.cache()\n",
    "val_data = val_data.shuffle(buffer_size=(len(val_data)+1))\n",
    "val_data = val_data.batch(64)\n",
    "val_data = val_data.prefetch(8)\n",
    "val = val_data\n",
    "\n",
    "no augmentation\n",
    "\n",
    "##### Evaluation\n",
    "\n",
    "Epoch 1/10\n",
    "441/441 [==============================] - 252s 72ms/step - loss: 0.6555 - recall: 0.8904 - precision: 0.8437 - val_loss: 0.5217 - val_recall: 0.6267 - val_precision: 0.2333\n",
    "\n",
    "Epoch 2/10\n",
    "441/441 [==============================] - 21s 47ms/step - loss: 0.5507 - recall: 0.9338 - precision: 0.9068 - val_loss: 0.6361 - val_recall: 0.7333 - val_precision: 0.1453\n",
    "\n",
    "Epoch 3/10\n",
    "441/441 [==============================] - 21s 47ms/step - loss: 0.5275 - recall: 0.9519 - precision: 0.9350 - val_loss: 0.6364 - val_recall: 0.7800 - val_precision: 0.1312\n",
    "\n",
    "Epoch 4/10\n",
    "441/441 [==============================] - 21s 48ms/step - loss: 0.4799 - recall: 0.9607 - precision: 0.9468 - val_loss: 0.4451 - val_recall: 0.6467 - val_precision: 0.3688\n",
    "\n",
    "Epoch 5/10\n",
    "441/441 [==============================] - 21s 47ms/step - loss: 0.4253 - recall: 0.9695 - precision: 0.9575 - val_loss: 0.4694 - val_recall: 0.6733 - val_precision: 0.2760\n",
    "\n",
    "Epoch 6/10\n",
    "441/441 [==============================] - 21s 47ms/step - loss: 0.3847 - recall: 0.9764 - precision: 0.9648 - val_loss: 0.4551 - val_recall: 0.7000 - val_precision: 0.2027\n",
    "\n",
    "Epoch 7/10\n",
    "441/441 [==============================] - 21s 47ms/step - loss: 0.3635 - recall: 0.9801 - precision: 0.9710 - val_loss: 0.4538 - val_recall: 0.6400 - val_precision: 0.3038\n",
    "\n",
    "Epoch 8/10\n",
    "441/441 [==============================] - 21s 48ms/step - loss: 0.3440 - recall: 0.9818 - precision: 0.9718 - val_loss: 0.3630 - val_recall: 0.6600 - val_precision: 0.3536\n",
    "\n",
    "Epoch 9/10\n",
    "441/441 [==============================] - 21s 48ms/step - loss: 0.3094 - recall: 0.9855 - precision: 0.9756 - val_loss: 0.3174 - val_recall: 0.6067 - val_precision: 0.4691\n",
    "\n",
    "Epoch 10/10\n",
    "441/441 [==============================] - 21s 47ms/step - loss: 0.2953 - recall: 0.9863 - precision: 0.9777 - val_loss: 0.3155 - val_recall: 0.6733 - val_precision: 0.4591\n",
    "\n",
    "##### model = Sequential()\n",
    "\n",
    "model = Sequential()\n",
    "\n",
    "model.add(Conv2D(16, (3,3), activation='relu', input_shape=(249, 64, 1)))\n",
    "model.add(Conv2D(16, (3,3), activation='relu', kernel_regularizer=l2(0.005)))\n",
    "model.add(Dropout(0.2))\n",
    "model.add(Flatten())\n",
    "model.add(Dense(128, activation='relu', kernel_regularizer=l2(0.005)))\n",
    "model.add(Dropout(0.3))\n",
    "model.add(Dense(1, activation='sigmoid'))\n",
    "\n",
    "model.compile(optimizer=keras.optimizers.Adam(learning_rate=0.0005), loss=tf.keras.losses.BinaryCrossentropy(from_logits=False), metrics=[tf.keras.metrics.Recall(),tf.keras.metrics.Precision()])\n",
    "\n",
    "model.summary()"
   ]
  },
  {
   "cell_type": "markdown",
   "id": "133ffceb-c135-430d-a951-e12e2df20c82",
   "metadata": {
    "jupyter": {
     "source_hidden": true
    }
   },
   "source": [
    "#### 6:37PM 1/19/25 --> Added more regularization, seemed better for the first two epochs, other metrics down, should prob train longer\n",
    "\n",
    "val loss continuously went down-->good sign. will continue to add regularization and will train longer. however there is still a big gap between train f1 and val f1\n",
    "\n",
    "##### Data preparation\n",
    "upsample train_pos\n",
    "load_wav_8k_mono\n",
    "preprocess_mel\n",
    "\n",
    "train_data = train_data.cache()\n",
    "train_data = train_data.shuffle(buffer_size=(len(train_data)+1))\n",
    "train_data = train_data.batch(64)\n",
    "train_data = train_data.prefetch(8)\n",
    "train = train_data\n",
    "\n",
    "val_data = val_data.cache()\n",
    "val_data = val_data.shuffle(buffer_size=(len(val_data)+1))\n",
    "val_data = val_data.batch(64)\n",
    "val_data = val_data.prefetch(8)\n",
    "val = val_data\n",
    "\n",
    "no augmentation\n",
    "\n",
    "##### Evaluation\n",
    "\n",
    "Epoch 1/4\n",
    "441/441 [==============================] - 294s 95ms/step - loss: 0.3662 - recall: 0.9209 - precision: 0.8939 - val_loss: 0.3205 - val_recall: 0.7333 - val_precision: 0.2311\n",
    "\n",
    "Epoch 2/4\n",
    "441/441 [==============================] - 22s 50ms/step - loss: 0.2235 - recall: 0.9826 - precision: 0.9684 - val_loss: 0.2690 - val_recall: 0.7000 - val_precision: 0.3261\n",
    "\n",
    "Epoch 3/4\n",
    "441/441 [==============================] - 22s 51ms/step - loss: 0.1988 - recall: 0.9885 - precision: 0.9780 - val_loss: 0.2428 - val_recall: 0.6600 - val_precision: 0.4521\n",
    "\n",
    "Epoch 4/4\n",
    "441/441 [==============================] - 22s 50ms/step - loss: 0.1761 - recall: 0.9924 - precision: 0.9840 - val_loss: 0.2301 - val_recall: 0.6600 - val_precision: 0.3750\n",
    "\n",
    "##### model = Sequential()\n",
    "\n",
    "model = Sequential()\n",
    "\n",
    "model.add(Conv2D(16, (3,3), activation='relu', input_shape=(249, 64, 1)))\n",
    "model.add(Conv2D(16, (3,3), activation='relu', kernel_regularizer=l2(0.0005)))\n",
    "model.add(Dropout(0.2))\n",
    "model.add(Flatten())\n",
    "model.add(Dense(128, activation='relu', kernel_regularizer=l2(0.0005)))\n",
    "model.add(Dropout(0.3))\n",
    "model.add(Dense(1, activation='sigmoid'))\n",
    "\n",
    "model.compile(optimizer=keras.optimizers.Adam(learning_rate=0.0005), loss=tf.keras.losses.BinaryCrossentropy(from_logits=False), metrics=[tf.keras.metrics.Recall(),tf.keras.metrics.Precision()])\n",
    "\n",
    "model.summary()"
   ]
  },
  {
   "cell_type": "markdown",
   "id": "a404c3d0-f649-4e7a-9ab2-2c068a4ef0a3",
   "metadata": {
    "jupyter": {
     "source_hidden": true
    }
   },
   "source": [
    "#### 5:17PM 1/19/25 --> Added regularization, seemed better for the first two epochs, but still signs of overfit\n",
    "\n",
    "Val loss grew after 2nd epoch, making val recall decrease and val precision increase as everything got better on training\n",
    "\n",
    "##### Data preparation\n",
    "upsample train_pos\n",
    "load_wav_8k_mono\n",
    "preprocess_mel\n",
    "\n",
    "train_data = train_data.cache()\n",
    "train_data = train_data.shuffle(buffer_size=(len(train_data)+1))\n",
    "train_data = train_data.batch(64)\n",
    "train_data = train_data.prefetch(8)\n",
    "train = train_data\n",
    "\n",
    "val_data = val_data.cache()\n",
    "val_data = val_data.shuffle(buffer_size=(len(val_data)+1))\n",
    "val_data = val_data.batch(64)\n",
    "val_data = val_data.prefetch(8)\n",
    "val = val_data\n",
    "\n",
    "no augmentation\n",
    "\n",
    "##### Evaluation\n",
    "\n",
    "Epoch 1/4\n",
    "882/882 [==============================] - 170s 192ms/step - loss: 0.0933 - recall_1: 0.9746 - precision_1: 0.9630 - val_loss: 0.0820 - val_recall_1: 0.5467 - val_precision_1: 0.7069\n",
    "\n",
    "Epoch 2/4\n",
    "882/882 [==============================] - 164s 186ms/step - loss: 0.0084 - recall_1: 0.9991 - precision_1: 0.9979 - val_loss: 0.0783 - val_recall_1: 0.6067 - val_precision_1: 0.7712\n",
    "\n",
    "Epoch 3/4\n",
    "882/882 [==============================] - 168s 190ms/step - loss: 0.0064 - recall_1: 0.9991 - precision_1: 0.9984 - val_loss: 0.1084 - val_recall_1: 0.5533 - val_precision_1: 0.7905\n",
    "\n",
    "Epoch 4/4\n",
    "882/882 [==============================] - 165s 187ms/step - loss: 0.0033 - recall_1: 0.9995 - precision_1: 0.9991 - val_loss: 0.1809 - val_recall_1: 0.5067 - val_precision_1: 0.8837\n",
    "\n",
    "##### model = Sequential()\n",
    "\n",
    "model = Sequential()\n",
    "\n",
    "model.add(Conv2D(16, (3,3), activation='relu', input_shape=(249, 64, 1)))\n",
    "model.add(Conv2D(16, (3,3), activation='relu', kernel_regularizer=l2(0.00005)))\n",
    "model.add(Dropout(0.1))\n",
    "model.add(Flatten())\n",
    "model.add(Dense(128, activation='relu'))\n",
    "model.add(Dropout(0.2))\n",
    "model.add(Dense(1, activation='sigmoid'))\n",
    "\n",
    "model.compile('Adam', loss=tf.keras.losses.BinaryCrossentropy(from_logits=False), metrics=[tf.keras.metrics.Recall(),tf.keras.metrics.Precision()])\n",
    "\n",
    "model.summary()"
   ]
  },
  {
   "cell_type": "markdown",
   "id": "b130203e-4c74-4275-a611-a0a540b6102a",
   "metadata": {
    "jp-MarkdownHeadingCollapsed": true,
    "jupyter": {
     "source_hidden": true
    }
   },
   "source": [
    "#### 4:52PM 1/19/25 --> Okay performance on the big-boy dataset, slight overfit, learning rate prob too high, prob increase batch size, then add augmentation\n",
    "\n",
    "##### Data preparation\n",
    "upsample train_pos\n",
    "load_wav_8k_mono\n",
    "preprocess_mel\n",
    "\n",
    "train_data = train_data.cache()\n",
    "train_data = train_data.shuffle(buffer_size=(len(train_data)+1))\n",
    "train_data = train_data.batch(64)\n",
    "train_data = train_data.prefetch(8)\n",
    "train = train_data\n",
    "\n",
    "val_data = val_data.cache()\n",
    "val_data = val_data.shuffle(buffer_size=(len(val_data)+1))\n",
    "val_data = val_data.batch(64)\n",
    "val_data = val_data.prefetch(8)\n",
    "val = val_data\n",
    "\n",
    "no augmentation\n",
    "\n",
    "##### Evaluation\n",
    "\n",
    "Epoch 1/4\n",
    "882/882 [==============================] - 721s 276ms/step - loss: 0.0341 - recall: 0.9960 - precision: 0.9888 - val_loss: 0.1301 - val_recall: 0.4667 - val_precision: 0.8861\n",
    "\n",
    "Epoch 2/4\n",
    "882/882 [==============================] - 148s 168ms/step - loss: 0.0061 - recall: 0.9992 - precision: 0.9986 - val_loss: 0.1319 - val_recall: 0.4933 - val_precision: 0.8605\n",
    "\n",
    "Epoch 3/4\n",
    "882/882 [==============================] - 142s 161ms/step - loss: 0.0020 - recall: 0.9999 - precision: 0.9997 - val_loss: 0.1642 - val_recall: 0.4533 - val_precision: 0.8947\n",
    "\n",
    "Epoch 4/4\n",
    "882/882 [==============================] - 146s 166ms/step - loss: 0.0011 - recall: 0.9999 - precision: 0.9998 - val_loss: 0.1660 - val_recall: 0.5067 - val_precision: 0.8941\n",
    "\n",
    "##### model = Sequential()\n",
    "\n",
    "model = Sequential()\n",
    "\n",
    "model.add(Conv2D(16, (3,3), activation='relu', input_shape=(249, 64, 1)))\n",
    "model.add(Conv2D(16, (3,3), activation='relu'))\n",
    "model.add(Flatten())\n",
    "model.add(Dense(128, activation='relu'))\n",
    "model.add(Dense(1, activation='sigmoid'))\n",
    "\n",
    "model.compile('Adam', loss=tf.keras.losses.BinaryCrossentropy(from_logits=False), metrics=[tf.keras.metrics.Recall(),tf.keras.metrics.Precision()])\n",
    "\n",
    "model.summary()"
   ]
  },
  {
   "cell_type": "markdown",
   "id": "47e74ae9-e3b7-4793-aebe-fb93a249164f",
   "metadata": {
    "jp-MarkdownHeadingCollapsed": true
   },
   "source": [
    "#### 4:27PM 1/19/25 --> Good performance on the baby dataset, everything checks\n",
    "\n",
    "train_small and val_subset (train_small=train.take(36), val_subset=train.skip(36).take(15))\n",
    "\n",
    "no augmentation\n",
    "\n",
    "Epoch 1/4\n",
    "36/36 [==============================] - 205s 177ms/step - loss: 0.6228 - recall: 0.8238 - precision: 0.7210 - val_loss: 0.3801 - val_recall: 0.7533 - val_precision: 0.9079\n",
    "\n",
    "Epoch 2/4\n",
    "36/36 [==============================] - 6s 170ms/step - loss: 0.3311 - recall: 0.8616 - precision: 0.8593 - val_loss: 0.2684 - val_recall: 0.8722 - val_precision: 0.9519\n",
    "\n",
    "Epoch 3/4\n",
    "36/36 [==============================] - 6s 170ms/step - loss: 0.2184 - recall: 0.9381 - precision: 0.9224 - val_loss: 0.1889 - val_recall: 0.8898 - val_precision: 0.9625\n",
    "\n",
    "Epoch 4/4\n",
    "36/36 [==============================] - 6s 170ms/step - loss: 0.1374 - recall: 0.9710 - precision: 0.9404 - val_loss: 0.0899 - val_recall: 0.9698 - val_precision: 0.9825\n",
    "\n",
    "##### model = Sequential()\n",
    "\n",
    "model = Sequential()\n",
    "\n",
    "model.add(Conv2D(16, (3,3), activation='relu', input_shape=(249, 64, 1)))\n",
    "model.add(Conv2D(16, (3,3), activation='relu'))\n",
    "model.add(Flatten())\n",
    "model.add(Dense(128, activation='relu'))\n",
    "model.add(Dense(1, activation='sigmoid'))\n",
    "\n",
    "model.compile('Adam', loss=tf.keras.losses.BinaryCrossentropy(from_logits=False), metrics=[tf.keras.metrics.Recall(),tf.keras.metrics.Precision()])\n",
    "\n",
    "model.summary()"
   ]
  },
  {
   "cell_type": "markdown",
   "id": "ee9fde1c-1d81-4837-91d2-6120fcac8d4d",
   "metadata": {
    "jupyter": {
     "source_hidden": true
    }
   },
   "source": [
    "#### 4:10PM 1/19/25\n",
    "\n",
    "train_small and val_subset (train_small=train.take(36), val_subset=train.skip(36).take(15))\n",
    "\n",
    "Epoch 1/4\n",
    "36/36 [==============================] - 228s 277ms/step - loss: 2.2676 - recall: 0.2529 - precision: 0.5833 - binary_accuracy: 0.5430 - val_loss: 0.9174 - val_recall: 0.1772 - val_precision: 0.8235 - val_binary_accuracy: 0.5750\n",
    "\n",
    "Epoch 2/4\n",
    "36/36 [==============================] - 10s 265ms/step - loss: 1.0063 - recall: 0.7341 - precision: 0.6931 - binary_accuracy: 0.7010 - val_loss: 1.1133 - val_recall: 0.8214 - val_precision: 0.6932 - val_binary_accuracy: 0.7250\n",
    "\n",
    "Epoch 3/4\n",
    "36/36 [==============================] - 9s 257ms/step - loss: 1.0557 - recall: 0.8137 - precision: 0.6787 - binary_accuracy: 0.7070 - val_loss: 1.0039 - val_recall: 0.9636 - val_precision: 0.6608 - val_binary_accuracy: 0.7417\n",
    "\n",
    "Epoch 4/4\n",
    "36/36 [==============================] - 9s 259ms/step - loss: 1.0558 - recall: 0.7906 - precision: 0.6822 - binary_accuracy: 0.7161 - val_loss: 1.0017 - val_recall: 0.8635 - val_precision: 0.6246 - val_binary_accuracy: 0.6948\n",
    "\n",
    "##### model = Sequential()\n",
    "\n",
    "model.add(Conv2D(16, (3,3), activation='relu', input_shape=(249, 64, 1)))\n",
    "model.add(Dropout(0.1))\n",
    "model.add(Conv2D(16, (3,3), activation='relu', kernel_regularizer=l2(0.005)))\n",
    "model.add(Dropout(0.1))\n",
    "model.add(Flatten())\n",
    "model.add(Dense(128, activation='relu', kernel_regularizer=l2(0.005)))\n",
    "model.add(Dropout(0.3))\n",
    "model.add(Dense(1, activation='sigmoid'))\n",
    "\n",
    "model.compile(optimizer=Adam(learning_rate=0.001), loss=tf.keras.losses.BinaryCrossentropy(from_logits=False), metrics=[tf.keras.metrics.Recall(),tf.keras.metrics.Precision(),tf.keras.metrics.BinaryAccuracy()])\n",
    "\n",
    "model.summary()"
   ]
  },
  {
   "cell_type": "code",
   "execution_count": 46,
   "id": "642af9d2-4037-4687-918e-1626b466c151",
   "metadata": {},
   "outputs": [],
   "source": [
    "model.save('1-19-25,B-Dataset,,30mPara,20E.keras', 'model_save_dir')"
   ]
  },
  {
   "cell_type": "code",
   "execution_count": 47,
   "id": "446cfc30-ce78-489c-b658-6c682baa4476",
   "metadata": {},
   "outputs": [
    {
     "data": {
      "text/plain": [
       "{'loss': [0.9888069033622742,\n",
       "  0.7656227350234985,\n",
       "  0.7120906710624695,\n",
       "  0.7115870118141174,\n",
       "  0.6879180669784546,\n",
       "  0.6518054008483887,\n",
       "  0.616981029510498,\n",
       "  0.5572264194488525,\n",
       "  0.5249404311180115,\n",
       "  0.5013784170150757,\n",
       "  0.46973705291748047,\n",
       "  0.48015114665031433,\n",
       "  0.46090269088745117,\n",
       "  0.4480056166648865,\n",
       "  0.45916056632995605,\n",
       "  0.4288387894630432,\n",
       "  0.4300490915775299,\n",
       "  0.4447900950908661,\n",
       "  0.4299427270889282,\n",
       "  0.44945502281188965],\n",
       " 'recall_2': [0.85358065366745,\n",
       "  0.9229241013526917,\n",
       "  0.9408718347549438,\n",
       "  0.9470081329345703,\n",
       "  0.9539956450462341,\n",
       "  0.9574362635612488,\n",
       "  0.9637853503227234,\n",
       "  0.9688220620155334,\n",
       "  0.972652792930603,\n",
       "  0.9730075001716614,\n",
       "  0.9749583005905151,\n",
       "  0.9757031798362732,\n",
       "  0.9774766564369202,\n",
       "  0.9780087471008301,\n",
       "  0.9781860709190369,\n",
       "  0.9800304770469666,\n",
       "  0.9822296500205994,\n",
       "  0.9807044267654419,\n",
       "  0.9822296500205994,\n",
       "  0.980810821056366],\n",
       " 'precision_2': [0.8162053823471069,\n",
       "  0.9113835096359253,\n",
       "  0.9342443346977234,\n",
       "  0.9418965578079224,\n",
       "  0.9491812586784363,\n",
       "  0.9542546272277832,\n",
       "  0.9577385187149048,\n",
       "  0.9625400900840759,\n",
       "  0.9663119316101074,\n",
       "  0.9675508141517639,\n",
       "  0.9691830277442932,\n",
       "  0.9705052375793457,\n",
       "  0.9736089110374451,\n",
       "  0.9739667773246765,\n",
       "  0.9748321175575256,\n",
       "  0.9755666851997375,\n",
       "  0.9757232069969177,\n",
       "  0.9768238663673401,\n",
       "  0.9776177406311035,\n",
       "  0.9773097038269043],\n",
       " 'val_loss': [0.7455999851226807,\n",
       "  0.8198352456092834,\n",
       "  0.803796112537384,\n",
       "  0.8676357269287109,\n",
       "  0.6720075011253357,\n",
       "  1.011343240737915,\n",
       "  0.6128031015396118,\n",
       "  0.5632604360580444,\n",
       "  0.5253586173057556,\n",
       "  0.4891486167907715,\n",
       "  0.4477449953556061,\n",
       "  0.4477919638156891,\n",
       "  0.45466408133506775,\n",
       "  0.44154515862464905,\n",
       "  0.47777530550956726,\n",
       "  0.48873016238212585,\n",
       "  0.4007129371166229,\n",
       "  0.4128318428993225,\n",
       "  0.4258323311805725,\n",
       "  0.47106391191482544],\n",
       " 'val_recall_2': [0.7333333492279053,\n",
       "  0.8266666531562805,\n",
       "  0.7200000286102295,\n",
       "  0.7733333110809326,\n",
       "  0.7200000286102295,\n",
       "  0.8666666746139526,\n",
       "  0.753333330154419,\n",
       "  0.7200000286102295,\n",
       "  0.7066666483879089,\n",
       "  0.7066666483879089,\n",
       "  0.6666666865348816,\n",
       "  0.6466666460037231,\n",
       "  0.6933333277702332,\n",
       "  0.7066666483879089,\n",
       "  0.699999988079071,\n",
       "  0.7400000095367432,\n",
       "  0.653333306312561,\n",
       "  0.6200000047683716,\n",
       "  0.6600000262260437,\n",
       "  0.7400000095367432],\n",
       " 'val_precision_2': [0.1818181872367859,\n",
       "  0.19314642250537872,\n",
       "  0.1145281046628952,\n",
       "  0.19205297529697418,\n",
       "  0.24657534062862396,\n",
       "  0.10333863645792007,\n",
       "  0.32011330127716064,\n",
       "  0.3450479209423065,\n",
       "  0.3897058963775635,\n",
       "  0.3302180767059326,\n",
       "  0.36764705181121826,\n",
       "  0.560693621635437,\n",
       "  0.40625,\n",
       "  0.41897234320640564,\n",
       "  0.4585152864456177,\n",
       "  0.31896552443504333,\n",
       "  0.5568181872367859,\n",
       "  0.5,\n",
       "  0.4876847267150879,\n",
       "  0.491150438785553]}"
      ]
     },
     "execution_count": 47,
     "metadata": {},
     "output_type": "execute_result"
    }
   ],
   "source": [
    "hist.history"
   ]
  },
  {
   "cell_type": "code",
   "execution_count": 48,
   "id": "4c98e136-75e3-48e8-b08c-711181c33cc5",
   "metadata": {},
   "outputs": [
    {
     "data": {
      "text/plain": [
       "<function matplotlib.pyplot.show(close=None, block=None)>"
      ]
     },
     "execution_count": 48,
     "metadata": {},
     "output_type": "execute_result"
    },
    {
     "data": {
      "image/png": "[encoded data removed]",
      "text/plain": [
       "<Figure size 640x480 with 1 Axes>"
      ]
     },
     "metadata": {},
     "output_type": "display_data"
    }
   ],
   "source": [
    "plt.title('Loss')\n",
    "plt.plot((hist.history['loss']), 'r', label='Training Loss')\n",
    "plt.plot((hist.history['val_loss']), 'b', label='Val Loss')\n",
    "plt.xlabel('Epochs')\n",
    "plt.ylabel('Loss')\n",
    "plt.legend()\n",
    "plt.show"
   ]
  },
  {
   "cell_type": "code",
   "execution_count": 49,
   "id": "5e36721d-b36e-466f-b1b7-2af93bbd6700",
   "metadata": {},
   "outputs": [
    {
     "data": {
      "text/plain": [
       "<function matplotlib.pyplot.show(close=None, block=None)>"
      ]
     },
     "execution_count": 49,
     "metadata": {},
     "output_type": "execute_result"
    },
    {
     "data": {
      "image/png": "[encoded data removed]",
      "text/plain": [
       "<Figure size 640x480 with 1 Axes>"
      ]
     },
     "metadata": {},
     "output_type": "display_data"
    }
   ],
   "source": [
    "plt.title('Precision')\n",
    "plt.plot((hist.history['precision_2']), 'r', label='Training Precision')\n",
    "plt.plot((hist.history['val_precision_2']), 'b', label='Val Precision')\n",
    "plt.xlabel('Epochs')\n",
    "plt.ylabel('Precision')\n",
    "plt.legend()\n",
    "plt.show"
   ]
  },
  {
   "cell_type": "code",
   "execution_count": 50,
   "id": "ec9b1196-1be9-4e75-b510-f4ff6303a56a",
   "metadata": {},
   "outputs": [
    {
     "data": {
      "text/plain": [
       "<function matplotlib.pyplot.show(close=None, block=None)>"
      ]
     },
     "execution_count": 50,
     "metadata": {},
     "output_type": "execute_result"
    },
    {
     "data": {
      "image/png": "[encoded data removed]",
      "text/plain": [
       "<Figure size 640x480 with 1 Axes>"
      ]
     },
     "metadata": {},
     "output_type": "display_data"
    }
   ],
   "source": [
    "plt.title('Recall')\n",
    "plt.plot((hist.history['recall_2']), 'r', label='Training Recall')\n",
    "plt.plot((hist.history['val_recall_2']), 'b', label='Val Recall')\n",
    "plt.xlabel('Epochs')\n",
    "plt.ylabel('Recall')\n",
    "plt.legend()\n",
    "plt.show"
   ]
  },
  {
   "cell_type": "code",
   "execution_count": 51,
   "id": "81fc0cb6-18a4-41b9-90fb-485a4dcaaa5c",
   "metadata": {},
   "outputs": [
    {
     "data": {
      "image/png": "[encoded data removed]",
      "text/plain": [
       "<Figure size 640x480 with 1 Axes>"
      ]
     },
     "metadata": {},
     "output_type": "display_data"
    }
   ],
   "source": [
    "val_precision = hist.history['val_precision_2']\n",
    "val_recall = hist.history['val_recall_2']\n",
    "\n",
    "# calculate validation F1 score\n",
    "val_f1_score = [2 * (p * r) / (p + r) for p, r in zip(val_precision, val_recall)]\n",
    "\n",
    "# plot validation F1 Score\n",
    "plt.title('Validation F1 Score')\n",
    "plt.plot(val_f1_score, 'g', label='Validation F1 Score')\n",
    "plt.xlabel('Epochs')\n",
    "plt.ylabel('F1 Score')\n",
    "plt.legend()\n",
    "plt.show()"
   ]
  },
  {
   "cell_type": "code",
   "execution_count": null,
   "id": "a6c340bf-255c-4f28-8ca0-00bdf66c3ccd",
   "metadata": {},
   "outputs": [],
   "source": []
  }
 ],
 "metadata": {
  "kernelspec": {
   "display_name": "gunshot_tf",
   "language": "python",
   "name": "gunshot_tf"
  },
  "language_info": {
   "codemirror_mode": {
    "name": "ipython",
    "version": 3
   },
   "file_extension": ".py",
   "mimetype": "text/x-python",
   "name": "python",
   "nbconvert_exporter": "python",
   "pygments_lexer": "ipython3",
   "version": "3.10.2"
  }
 },
 "nbformat": 4,
 "nbformat_minor": 5
}
